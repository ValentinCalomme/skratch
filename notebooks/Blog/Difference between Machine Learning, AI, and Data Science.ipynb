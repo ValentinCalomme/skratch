{
 "cells": [
  {
   "cell_type": "markdown",
   "metadata": {},
   "source": [
    "# What's the difference with AI and Data Science\n",
    "\n",
    "Something that many people struggle with is the difference between artificial intelligence, data science, and machine learning. The main reason is that even though they are different concepts, they are intertwined, and their differences become blurry. In this blog post, we'll discuss what differentiates them, but also, how they relate to each other.\n",
    "\n",
    "## Data Science\n",
    "\n",
    "## Artificial Intelligence\n",
    "\n",
    "## Machine Learning\n",
    "\n",
    "\n",
    "## Relation to artificial intelligence\n",
    "\n",
    "Machine learning and artificial intelligence are often used in the same context but they are nonetheless different.\n",
    "\n",
    "Artificial intelligence is a field trying to input intelligence into machines. Whether this intelligence is machine learned doesn’t matter. One of the core components of an intelligent machine is that it should be able to learn or improve through experience. This is why machine learning is being used more and more in artificial intelligence, but other ways to create artificially intelligent machines are also investigated.\n",
    "\n",
    "## Relation to data science\n",
    "\n",
    "Similarly, machine learning and data science are often mixed up for one another. Yes, machine learning often uses data in order to provide programs with experience. This is necessary for the programs to learn. And where there is data, there is data science. However, machine learning programs do not always need to use data as experience. In reinforcement learning for instance, a program uses direct feedback provided by the environment in which it “lives”, in order to get better."
   ]
  },
  {
   "cell_type": "code",
   "execution_count": null,
   "metadata": {},
   "outputs": [],
   "source": []
  }
 ],
 "metadata": {
  "kernelspec": {
   "display_name": "Python 3",
   "language": "python",
   "name": "python3"
  },
  "language_info": {
   "codemirror_mode": {
    "name": "ipython",
    "version": 3
   },
   "file_extension": ".py",
   "mimetype": "text/x-python",
   "name": "python",
   "nbconvert_exporter": "python",
   "pygments_lexer": "ipython3",
   "version": "3.6.4"
  }
 },
 "nbformat": 4,
 "nbformat_minor": 2
}

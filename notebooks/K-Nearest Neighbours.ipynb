{
 "cells": [
  {
   "cell_type": "markdown",
   "metadata": {},
   "source": [
    "# K-Nearest Neighbours\n",
    "\n",
    "## About the model\n",
    "\n",
    "K-Nearest Neighbour is one of the most ancient machine learning models. Formalized in 1951 by Fix and Hodges, it can be used for classification and regression and is very easy to implement. Though being simplistic, it has shown to give decent performance, especially in cases where there is not much data to work with. In other cases, it has been used as an easy-to-compute baseline, or even as a meta-learner.\n",
    "\n",
    "## Pros\n",
    "\n",
    "- Easy to implement\n",
    "- Can perform well even with limited data\n",
    "- Can be used for classification, regression, or as a meta-learner\n",
    "- Lazy learner, so easy to update\n",
    "\n",
    "## Cons\n",
    "\n",
    "- Simplistic (linear boundaries)\n",
    "- Computing distances can be expensive\n",
    "- Appropriate similarity measure has to be picked\n",
    "- Predictions can be slow"
   ]
  },
  {
   "cell_type": "markdown",
   "metadata": {},
   "source": [
    "## Introduction \n",
    "\n",
    "K-Nearest Neighbour is based on a very common assumption in machine learning: data points that are similar/close to each other also behave similarly.\n",
    "\n",
    "In the real world, you would, for instance, guess that two houses that are very similar to each other could be sold for approximately the same price. Or for instance, two e-mails that are similar to each other are pretty much as likely to be spam or not.\n",
    "\n",
    "Let's plot some data to build some more intuition about how KNN works. Here we will plot data points belonging to two classes, red (0) and green (1), and a gray point for which the class needs to be predicted."
   ]
  },
  {
   "cell_type": "code",
   "execution_count": 2,
   "metadata": {},
   "outputs": [
    {
     "data": {
      "image/png": "[encoded data removed]",
      "text/plain": [
       "<Figure size 1440x360 with 1 Axes>"
      ]
     },
     "metadata": {},
     "output_type": "display_data"
    }
   ],
   "source": [
    "import sys\n",
    "sys.path.append(\"D:/source/skratch/source\")\n",
    "\n",
    "import numpy as np\n",
    "import matplotlib.pyplot as plt\n",
    "from matplotlib.colors import ListedColormap\n",
    "\n",
    "X = np.array([[0, 1], [1, 2], [0, 2], [1, 1.1], [1, 0.5], [0, 0.6], [0.2, 1.1], [1.1, 1.4],\n",
    "              [5, 3], [4, 4], [3.7, 5], [3.1, 4], [4, 5.5], [5.1, 4.6], [3.8, 4.1], [4, 5.4]])\n",
    "y = np.array([0, 0, 0, 0, 0, 0, 0, 0, 1, 1, 1, 1, 1, 1, 1, 1])\n",
    "\n",
    "plt.figure(figsize=(20, 5))\n",
    "plt.scatter(X[:, 0], X[:, 1],\n",
    "            c=y,\n",
    "            cmap=ListedColormap(['red', 'green']),\n",
    "            s=100, marker='o')\n",
    "plt.scatter([0.5], [0.5], c='gray', marker='X', s=200)\n",
    "plt.show()"
   ]
  },
  {
   "cell_type": "markdown",
   "metadata": {},
   "source": [
    "Now, just by looking at the plot, it seems quite obvious that the gray point is surrounded by red points, and therefore, it makes sense to classify it as red. This reasoning can be essentially summarized as \"a point will have the class that most of its neighbours also have\". Similarly, if all of these points were assigned some sort of value, it would make sense to assign the gray point, a value that is similar to the value of its neighbours.\n",
    "\n",
    "This simple intuition is what K-Nearest Neighbours uses for both classification and regression!"
   ]
  },
  {
   "cell_type": "markdown",
   "metadata": {},
   "source": [
    "## Implementation from \"skratch\"\n",
    "\n",
    "Now, let's actually build a KNN classifier and a KNN regressor. As we've shown, both share much of the same logic, and therefore, most of the code will be identical.\n",
    "\n",
    "First, we will define some generic `KNN` object. In the constructor, we pass two parameters:\n",
    "- The number of neighbours\n",
    "- Whether or not we want to use weighted distances\n",
    "\n",
    "The `fit` function is extremely simple here. Indeed, all that is needed is to store the data that inside the object. Similarly, the `update` function only concatenates the existing data with the new one."
   ]
  },
  {
   "cell_type": "code",
   "execution_count": 45,
   "metadata": {},
   "outputs": [],
   "source": [
    "\"\"\"Implementation of KNN\"\"\"\n",
    "\n",
    "from collections import Counter\n",
    "\n",
    "import numpy as np\n",
    "\n",
    "from utils.distances import euclidean, cdist\n",
    "\n",
    "\n",
    "class KNN:\n",
    "\n",
    "    def __init__(self, k=1, weighted=False):\n",
    "\n",
    "        self.k = k\n",
    "        self.weighted = weighted\n",
    "\n",
    "    def fit(self, X, y):\n",
    "\n",
    "        self.X_ = X\n",
    "        self.y_ = y\n",
    "\n",
    "        return self\n",
    "\n",
    "    def update(self, X, y):\n",
    "\n",
    "        self.X_ = np.concatenate((self.X_, X))\n",
    "        self.y_ = np.concatenate((self.y_, y))\n",
    "\n",
    "        return self"
   ]
  },
  {
   "cell_type": "markdown",
   "metadata": {},
   "source": [
    "In order to predict, we need to do two things:\n",
    "\n",
    "- Find the K-nearest neighbours by computing their distances to each of our example   \n",
    "- Given these neighbours and their distances, vote to define the output"
   ]
  },
  {
   "cell_type": "code",
   "execution_count": 46,
   "metadata": {},
   "outputs": [],
   "source": [
    "    def predict(self, X):\n",
    "\n",
    "        predictions = []\n",
    "\n",
    "        for x in X:\n",
    "\n",
    "            neighbours, distances = self._get_neighbours(x)\n",
    "\n",
    "            prediction = self._vote(neighbours, distances)\n",
    "\n",
    "            predictions.append(prediction)\n",
    "\n",
    "        return np.array(predictions)"
   ]
  },
  {
   "cell_type": "markdown",
   "metadata": {},
   "source": [
    "Retrieving the neighbours can be done by simply calculating all pairwise distances between our example and the data stored inside the model. Once these distances are known, the K instances that have the shortest distance to the example are returned.\n",
    "\n",
    "In this case, the distance is defined as the Euclidean distance between two instances."
   ]
  },
  {
   "cell_type": "code",
   "execution_count": 47,
   "metadata": {},
   "outputs": [],
   "source": [
    "    def _get_neighbours(self, x):\n",
    "\n",
    "        distances = np.array([self._distance(x, x_) for x_ in self.X_])\n",
    "        indices = np.argsort(distances)[:self.k]\n",
    "\n",
    "        return self.y_[indices], distances[indices]\n",
    "\n",
    "    def _distance(self, a, b):\n",
    "\n",
    "        return euclidean(a, b)"
   ]
  },
  {
   "cell_type": "markdown",
   "metadata": {},
   "source": [
    "We also need to compute the weights that we would like to assign to each neighbour. Typically, this is done by favouring neighbours that are closer by given them a weight equal to 1 divided by their distance.\n",
    "\n",
    ">Here we also cover the situation where a neighbour might have a distance of 0. Obviously, we can't divide by zero, so we assign this neighbour a weight of 1 and all other neighbours a weight of zero. This is also how scikit-learn deals with this situation according to their source code."
   ]
  },
  {
   "cell_type": "code",
   "execution_count": 48,
   "metadata": {},
   "outputs": [],
   "source": [
    "    def _get_weights(self, distances):\n",
    "\n",
    "        weights = np.ones_like(distances, dtype=float)\n",
    "\n",
    "        if self.weighted:\n",
    "            if any(distances == 0):\n",
    "                weights[distances != 0] = 0\n",
    "            else:\n",
    "                weights /= distances\n",
    "\n",
    "        return weights"
   ]
  },
  {
   "cell_type": "markdown",
   "metadata": {},
   "source": [
    "Now, the last thing that we need to define is how to vote to define the output. This part is the only thing that the KNN classifier and regressor do differently, and therefore, we will reserve it to their respective classes.\n",
    "\n",
    ">We added the function here to reinforce the fact that a voting scheme is needed. Don't worry about the error being thrown here."
   ]
  },
  {
   "cell_type": "code",
   "execution_count": 49,
   "metadata": {},
   "outputs": [],
   "source": [
    "    def _vote(self, targets, distances):\n",
    "        raise NotImplementedError(\"KNN requires a _vote function\")"
   ]
  },
  {
   "cell_type": "markdown",
   "metadata": {},
   "source": [
    "In the classification case, given the neighbours and their weights, we define the class of our example by using a weighted majority voting. It works the same way as a regular majority voting except that instead of each voter having 1 vote each, their weight represents \"how many\" votes they get."
   ]
  },
  {
   "cell_type": "code",
   "execution_count": 50,
   "metadata": {},
   "outputs": [],
   "source": [
    "class KNN_Classifier(KNN):\n",
    "\n",
    "    def _vote(self, classes, distances):\n",
    "\n",
    "        weights = self._get_weights(distances)\n",
    "\n",
    "        frequencies = {c: np.sum(weights[classes == c]) for c in list(set(classes))}\n",
    "\n",
    "        return max(classes, key=frequencies.get)"
   ]
  },
  {
   "cell_type": "markdown",
   "metadata": {},
   "source": [
    "In the regression case, we use a simple weighted average.\n",
    "\n",
    ">https://en.wikipedia.org/wiki/Weighted_mean"
   ]
  },
  {
   "cell_type": "code",
   "execution_count": 51,
   "metadata": {},
   "outputs": [],
   "source": [
    "class KNN_Regressor(KNN):\n",
    "\n",
    "    def _vote(self, targets, distances):\n",
    "\n",
    "        weights = self._get_weights(distances)\n",
    "\n",
    "        return np.sum(weights * targets) / np.sum(weights)"
   ]
  },
  {
   "cell_type": "markdown",
   "metadata": {},
   "source": [
    "And now, we could for instance use the `KNN_Classifier` to classify that gray point that we had mentioned at the beginning of the notebook.\n",
    "\n",
    "from supervised.knn import KNN_Classifier#, KNN, KNN_Regressor"
   ]
  },
  {
   "cell_type": "code",
   "execution_count": null,
   "metadata": {},
   "outputs": [],
   "source": [
    "from supervised.knn import KNN_Classifier#, KNN, KNN_Regressor\n",
    "\n",
    "X = np.array([[0, 1], [1, 2], [0, 2], [1, 1.1], [1, 0.5], [0, 0.6], [0.2, 1.1], [1.1, 1.4],\n",
    "              [5, 3], [4, 4], [3.7, 5], [3.1, 4], [4, 5.5], [5.1, 4.6], [3.8, 4.1], [4, 5.4]])\n",
    "y = np.array([0, 0, 0, 0, 0, 0, 0, 0, 1, 1, 1, 1, 1, 1, 1, 1])\n",
    "\n",
    "clf = KNN_Classifier(k=3)\n",
    "clf.fit(X, y)\n",
    "clf.predict([[0.5,0.5]])"
   ]
  },
  {
   "cell_type": "markdown",
   "metadata": {},
   "source": [
    "As expected, the class is `0`, which corresponds to the red class.\n",
    "\n",
    "## FAQ\n",
    "\n",
    "### Why is it called a lazy learner?\n",
    "\n",
    "A lazy learner is a model that only learns when it is asked to make a prediction. KNN is a lazy learner because as we've shown, everything happens in the `predict` method as opposed to the `fit` method.\n",
    ">https://en.wikipedia.org/wiki/Lazy_learning\n",
    "\n",
    "### What is the best value for K?\n",
    "\n",
    "$K$ is a hyperparameter and picking the right one is highly dependent on the task at hand. Typically, only odd numbers are chosen to avoid ties, and because of Occam's razor, it is often assumed that smaller values of $K$ are preferable. Sometimes, a rule of thumb of chosing $K = \\frac{\\sqrt{n}}{2}$ is proposed if there are $n$ data points, but there is no strong theory behind it. \n",
    "\n",
    "### What distance measure should I use?\n",
    "\n",
    "Again, picking an appropriate distance measure can make a huge difference with KNN. Since it is a lazy learner, and therefore doesn't require training time, it is often possible to plainly compare different distance measures and pick the best one.\n",
    "\n",
    "### Why weight the neighbours?\n",
    "\n",
    "Weighting the neighbours can turn out to be useful to increase the performance, but it is always wise to experiment with and without weighting to see what performs best. In our case, we gave a higher weights to the closest neighbours, but obviously, more complex weighting schemes can be experimented.\n",
    "\n",
    "### Why is KNN a meta-learner?\n",
    "\n",
    "KNN is a meta-learner in the sense that the voting scheme can be made as complex as you want. If you'd like to replace the majority voting scheme explained in this tutorial, by a deep neural network, it is entirely possible. It is considered a meta-learner because it learns \"how to learn\" by selecting the instances on which a decision has to then be made.\n",
    "\n",
    "### Are there other ways to find the closest neighbours?\n",
    "\n",
    "The K-nearest neighbours according to a certain distance measure will always be the same, but there exists many different algorithm to find them efficiently. A famous one involves storing the data in a KD-tree. In this tutorial, we used brute force, but in some cases, this might take too much time.\n",
    ">https://en.wikipedia.org/wiki/Kd-tree"
   ]
  },
  {
   "cell_type": "markdown",
   "metadata": {},
   "source": [
    "## Useful resources\n",
    "\n",
    "Sklearn:\n",
    "http://scikit-learn.org/stable/modules/neighbors.html\n",
    "\n",
    "Machine Learning Mastery:\n",
    "https://machinelearningmastery.com/tutorial-to-implement-k-nearest-neighbors-in-python-from-scratch/\n",
    "\n",
    "ML from scratch:\n",
    "https://github.com/eriklindernoren/ML-From-Scratch/blob/master/mlfromscratch/supervised_learning/k_nearest_neighbors.py\n",
    "\n",
    "Videos:\n",
    "https://www.youtube.com/watch?v=UqYde-LULfs (Thales Sehn Körting)\n",
    "https://www.youtube.com/watch?v=4ObVzTuFivY (Mathematical Monk)"
   ]
  },
  {
   "cell_type": "code",
   "execution_count": null,
   "metadata": {},
   "outputs": [],
   "source": []
  }
 ],
 "metadata": {
  "kernelspec": {
   "display_name": "Python 3",
   "language": "python",
   "name": "python3"
  },
  "language_info": {
   "codemirror_mode": {
    "name": "ipython",
    "version": 3
   },
   "file_extension": ".py",
   "mimetype": "text/x-python",
   "name": "python",
   "nbconvert_exporter": "python",
   "pygments_lexer": "ipython3",
   "version": "3.6.4"
  }
 },
 "nbformat": 4,
 "nbformat_minor": 2
}

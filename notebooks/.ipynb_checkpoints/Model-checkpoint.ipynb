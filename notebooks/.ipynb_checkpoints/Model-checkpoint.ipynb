{
 "cells": [
  {
   "cell_type": "markdown",
   "metadata": {},
   "source": [
    "# Models\n",
    "\n",
    "## About\n",
    "\n",
    "In machine learning, a model \"models\" the real world, or least a part of it using mathematical concepts and language. The same way humans build an understanding of how the world works over time, which then affects how we behave and make decisions. The idea is that if we can summarize how the world works, we can make better decisions. \n",
    "\n",
    "When we are little kids, we have a certain model of how the world works. As we grow up, we refine this model, and start becoming better at making decisions, even though we might not be able to explain how we make said decisions.\n",
    "\n",
    "Of course, my understanding of the world might vary from yours because we have had different lives and experiences, or we simply take in things differently. My own understanding of the world might have even been different if my life had happened differently. The same is true with models. Depending on how they are built and trained, they might make decisions in wildly different ways."
   ]
  },
  {
   "cell_type": "markdown",
   "metadata": {},
   "source": [
    "## What is a model?\n",
    "\n",
    "Models have of course all sorts of properties that we could delve into, but here, we'll focus on the high-level components of a model. To illustrate this, we'll look at maps as potential models.\n",
    "\n",
    "### What information is stored\n",
    "\n",
    "When a model is created, one must define what its state will be composed of. For a map, it could be keeping track of borders between land and water, but it could also be keeping track of borders between countries, of the topology of certain regions, or even the position of certain cities.\n",
    "\n",
    "Of course, depending on what the model is meant to be used for, more or less information would need to be stored. Indeed, if we want to figure out in which country a certain city is, we will need to know about the country borders, but we won't need to know about the topology.\n",
    "\n",
    "What is important to understand is that we are only talking about what type of information we want our model to store, not how accurate that information is. If you look back at old-timey maps, they were obviously innacurate compared to today's maps, but they were storing similar information, meaning that they could be used for similar tasks."
   ]
  },
  {
   "cell_type": "markdown",
   "metadata": {},
   "source": [
    "### How that information is used\n",
    "\n",
    "As we mentioned above, a model has a state, which could be simple or complex. And the point of having a state, is that it allows the model to make decisions. Models make decisions in wildly different ways, some can be represented as decision-trees, some use analogy based on previous observations, some use Bayesian methods, etc.\n",
    "\n",
    "To look at our map example, if we want to predict which country a certain location is in, we could do it in various ways. We could look at a list of nearby cities and predict the country that most of these are in. We could also predict it based on its latitude and longitude, and how likely that would make it to be in a certain country.\n",
    "\n",
    "Based on the application, some models might be more sensible than others. Some models might be faster at making predictions than others, some  might be better at explaining how they made their decision, or some may need less training data to generalize."
   ]
  },
  {
   "cell_type": "markdown",
   "metadata": {},
   "source": [
    "### How the model is trained\n",
    "\n",
    "Obviously, before a model is able to make decisions, it needs to learn its state. This is typically done by using training data. In theory, one could just try all possible state and see which one performs better on the data it has. While this would technically still be machine learning,  it is often not feasible, or even possible. Some models have an infinite state-space but even if it was finite, there are usually too many options to run through for it to be feasible.\n",
    "\n",
    "Imagine that we want to learn where the borders between countries are, and we have a data about locations and in which country they are. We could, for instance, try all possible of borders, but this would obviously be tedious and might take too long to even work properly.\n",
    "\n",
    "Machine learning is deeply focused on figuring out _smart_ ways to learn the best state of a model given some data. Most papers in the field are indeed dedicated to this. It is important to understand the learning mechanism of a model because they may fare differently given the amount and quality of the data at hand."
   ]
  },
  {
   "cell_type": "markdown",
   "metadata": {},
   "source": [
    "### What information is used to train the model\n",
    "\n",
    "As with humans, models need to be trained effectively. This is why we go to school for so long. We take years to learn some concepts, and the quality of the learning materials has much to do with how well we learn. If we've been given bad maths classes, it will be harder for us to be good at maths, however smart we may be. Models work the same way. They need relevant information, or data, and enough of it to be performing well at their task. Often, what data is available is the biggest deciding factor on what model to use, as models may perform differently given how much and what type of data there is."
   ]
  },
  {
   "cell_type": "markdown",
   "metadata": {},
   "source": [
    "## What makes a model good or bad?\n",
    "\n",
    "It all depends on what you consider good or bad. For a map, it might be good to be detailed, or it might be good to be easy to read for example. Sometimes, a good model is not much about the model itself, but about how easy it is to understand, train, or to update given the available data.\n",
    "\n",
    "There are however some core beliefs and concepts in machine learning which help define what a good model is.\n",
    "\n",
    "### No Free Lunch Theorem\n",
    "\n",
    "The No Free Lunch theorem states that all models, when their performance is averaged over all tasks, will be equivalent. This suggests that there isn't a \"master model\" which will always perform well on all tasks. Some model might be good at a certain task and horrible at another.\n",
    "\n",
    "This suggests that one must find a healthy balance between how well a model can perform on a specific task, and how well it could perform on a new task.\n",
    "\n",
    "### Occam's Razor\n",
    "\n",
    "Occam's Razor, also called the law of parsimony, is a core principle or belief in machine learning. It suggests that a simpler model is a better model. So we should always strive to create models as simple as possible. If you've ever written code, you know that you can very easily make it \"work\" but it can very quickly become spaghetti code that is difficult to maintain. This is based on the assumption that the more moving parts there are within a model, the more likely some are to be wrong.\n",
    "\n",
    "### Bias-variance dilemna\n",
    "\n",
    "Of course, a model needs to be general enough to be flexible and robust to noise, but it also needs to be precise and specific enough, to be accurate. This is a dilemna, as improving one will hinder the other, and therefore, one needs to find the right spot. The bias-variance dilemna is a key challenge in machine learning."
   ]
  }
 ],
 "metadata": {
  "kernelspec": {
   "display_name": "Python 3",
   "language": "python",
   "name": "python3"
  },
  "language_info": {
   "codemirror_mode": {
    "name": "ipython",
    "version": 3
   },
   "file_extension": ".py",
   "mimetype": "text/x-python",
   "name": "python",
   "nbconvert_exporter": "python",
   "pygments_lexer": "ipython3",
   "version": "3.6.4"
  }
 },
 "nbformat": 4,
 "nbformat_minor": 2
}

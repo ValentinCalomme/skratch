{
 "cells": [
  {
   "cell_type": "markdown",
   "metadata": {},
   "source": [
    "# What is Machine Learning?\n",
    "\n",
    "Arthur Samuel coined the term in 1959, and he defined it as:\n",
    "\n",
    "“Machine learning is a field of computer science that gives computers the ability to learn without being explicitly programmed.”\n",
    "\n",
    "What did he actually mean by \"explicitly programmed\"? Let’s take the task of deciding whether an e-mail is spam or not as an example!\n",
    "\n",
    "## Explicitly programmed - The traditional computer science approach\n",
    "\n",
    "To explicitly program a computer to detect spam e-mails, we would write code that would detail each decision the computer would have to make when being fed an e-mail as input. This could include analyzing the sender, whether the e-mail contains certain words, and so on.\n",
    "\n",
    "A simplistic explicit program could for instance check whether the string \"Nigerian Prince\" is present in an e-mail."
   ]
  },
  {
   "cell_type": "code",
   "execution_count": 7,
   "metadata": {},
   "outputs": [],
   "source": [
    "def isSpam(email):\n",
    "    return \"Nigerian Prince\" in email"
   ]
  },
  {
   "cell_type": "markdown",
   "metadata": {},
   "source": [
    "Based on the information available, the program would follow rules that we designed in order to make its decisions. Of course, we would want the program to be as accurate as possible when making these judgment calls, meaning that we would perhaps have to revise the rules we first designed and modify them in our code.\n",
    "\n",
    "In order to detect more spam e-mails, we could perhaps also check whether the e-mail was sent by a known spammer."
   ]
  },
  {
   "cell_type": "code",
   "execution_count": 10,
   "metadata": {},
   "outputs": [],
   "source": [
    "def isSpam(email):\n",
    "    return \"Nigerian Prince\" in email or sender == \"i-am-a-scammer@aol.com\""
   ]
  },
  {
   "cell_type": "markdown",
   "metadata": {},
   "source": [
    "## Implicitly programmed - The machine learning approach\n",
    "\n",
    "To implicitly program a computer to detect spam e-mails, we would write some sort of parameterized function discriminating between spam and non-spam e-mails. Let's assume that each word in the e-mail has some sort of score dictating how likely it is to be part of a spam e-mail. We could look at the average score of the e-mail and, if the score is above a certain threshold, we classify the e-mail as spam."
   ]
  },
  {
   "cell_type": "code",
   "execution_count": null,
   "metadata": {},
   "outputs": [],
   "source": [
    "def isSpam(email):\n",
    "    total_spam_score = 0\n",
    "    num_words = 0\n",
    "    \n",
    "    for word in email:\n",
    "        num_words += 1\n",
    "        total_spam_score += spam_scores[word] # here spam_scores is a dictionary\n",
    "    \n",
    "    average_spam_score = total_spam_score / num_words\n",
    "    \n",
    "    return average_spam_score > spam_threshold # return True if the average spam score is above a threshold"
   ]
  },
  {
   "cell_type": "markdown",
   "metadata": {},
   "source": [
    "You might wonder: \"how is this different from the explicitly programmed example?\". The main difference lies in the fact that we do not explicitly define `spam_scores` or `spam_threshold`. These are variables that will be learned by looking at labelled examples. These are the parameters of our function because if they have different values, our function will behave differently.\n",
    "\n",
    "The learning part is makes machine learning exciting. We could say, well, let's just try all possible combinations of `spam_scores` and `spam_threshold` and see which one works best for this problem. And in theory, yes, this would be machine learning and it would lead to an optimal solution. But there are so many possible combinations that it becomes impossible to try them all.\n",
    "\n",
    "Machine Learning research is trying to solve two major questions. **What should the machine learn?** This boils down to which variables (i.e. `spam_scores` and `spam_threshold`) has to be learned, which dictates how the machine can make decisions. And **how should the machine learn it?** This is the part where we need to find ways to be smarter than trying every possible set of parameters.\n"
   ]
  },
  {
   "cell_type": "markdown",
   "metadata": {},
   "source": [
    "# When should I apply Machine Learning?\n",
    "\n",
    "As we explained with the spam example, every machine learning program could, in theory, be written as an explicit program. So when should we apply Machine Learning instead of regular explicit program?\n",
    "\n",
    "## Performance matters\n",
    "\n",
    "Computers can process information much faster than humans can, meaning that they are not only able to come up with more solutions, they are also able to come up with more complex solutions. And for many problems, they have shown to come up with better solutions than humans!\n",
    "\n",
    "Machine learning is particularly useful when the human solution is underperforming or perhaps seems a bit too simplistic. Computers are less biased and might explore solutions that humans didn't think of, resulting in potentially better performance.\n",
    "\n",
    "\n",
    "## Easier to design, easier to maintain\n",
    "\n",
    "Though some problems are small and simple enough to be tackled by a human explicitly, many tasks quickly become too complicated or large to handle. In the spam detection example, it might be feasible for someone to create a fairly good spam filter for themselves. But what if we asked them to create spam filters for thousands of other people? Surely, a single spam filter might be too complex to design, as it would have to account for everyone’s specific interpretation of what spam is. And creating thousands of individual filters is simply not feasible.\n",
    "\n",
    "Machine learning allows us to write a single program that would adapt to everyone’s specific situation, simply because everyone would provide different data and the models would then learn different parameters for each person. On top of this, maintaining and updating all of these filters would be much easier as well since the code itself wouldn’t have to modified.\n",
    "\n",
    "## Less dependence on domain experts, and less human bias\n",
    "\n",
    "Without machine learning, solving most tasks requires domain experts. People who understand the problem deeply, its patterns and so on. This quickly leads to problems and limitations since domain experts are typically hard to find, expensive, and might not always be as good as we think.\n",
    "\n",
    "With machine learning, we do not need to know ourselves how a certain task should be solved, we can let the computer figure it out. All we need to provide is feedback to let it know whether or not it's doing well. This way, the computer might even come up with more novel or more creative solutions, ultimately becoming better than if we had explicitly told it what to do."
   ]
  },
  {
   "cell_type": "markdown",
   "metadata": {},
   "source": [
    "# When can I apply Machine Learning?\n",
    "\n",
    "Beforehand, we discussed in what situations we should apply machine learning, in this section, we'll discuss when we are able to do so.\n",
    "\n",
    "Tom Mitchell defined that for a machine learning problem to be well-posed, it requires 3 properties.\n",
    "\n",
    "## A well-defined class of tasks\n",
    "\n",
    "A machine learning problem needs a well-defined class of tasks to perform, something that it has to be good at. It is important that the class of tasks is clear and concise. It could be categorizing e-mails as spam or not spam, identifying the sentiment of a tweet, or even segmenting customer data into several groups for instance.\n",
    "\n",
    "## Performance measure\n",
    "\n",
    "Since the goal of a machine learning problem is to be good at a class of tasks, we need to define what “good” means. This might be the percentage of spam e-mails that we accurately detect, how close we are to predicting the real sentiment of a tweet, or how well-separated are the customer groups that we segmented to each other.\n",
    "\n",
    "This performance measure could also include how long it took to train the model, how much data it requires, how human-understandable it is, or other factors. The ultimate goal is to be able to compare two solutions to the same problem and pick the better one, whatever the criteria may be. This means that the performance measure should be able to be represented by a single number.\n",
    "\n",
    "## Experience\n",
    "\n",
    "As we explained before, machine learning programs learn through experience, shall it be data, direct feedback, or else. This experience can come in many shapes or forms. It could be a bunch of e-mails labeled as spam or not spam, the history of the price of bitcoin, demographic data about customers, or even whether or not the program has won specific games of chess.\n",
    "\n",
    "Machine learning programs need experience to know whether or not they are performing well, using the performance measure we mentioned previously. The amount and the quality of the experience it has access to will directly impact how well it will learn."
   ]
  },
  {
   "cell_type": "markdown",
   "metadata": {},
   "source": [
    "# Types of Machine Learning Problems\n",
    "\n",
    "Machine learning problems are often put in certain categories as they represent similar classes of tasks.\n",
    "\n",
    "## Supervised learning\n",
    "\n",
    "Supervised learning represents the machine learning problems that are provided with supervision. This usually means that there exists some gold standard, usually in the form of labelled data, that the program can make use of. This means that the program can check how well it is doing by comparing its output to that gold standard.\n",
    "\n",
    "### Regression\n",
    "\n",
    "Regression problems try to map an input to a continuous output. For instance, it could be predicting the price of a house or the price of a cryptocurrency tomorrow. It is supervised because there exists correct outputs against which the model can test itself.\n",
    "\n",
    "### Classification\n",
    "\n",
    "Classification is a specific case of regression where the output is discrete. For instance, it can be to predict whether an e-mail is spam or not or whether an image contains a cat, a dog, a giraffe, or none of these.\n",
    "\n",
    "## Unsupervised learning\n",
    "\n",
    "Unsupervisedd learning, as opposed to supervised learning, doesn’t have a gold standard that the program can make use of. Instead, its goal is often to infer some structure about data.\n",
    "\n",
    "### Clustering\n",
    "\n",
    "Clustering is the task of grouping data points in meaningful groups. This could be used for customer segmentation for instance, or even to find meaningful topics in the news.\n",
    "\n",
    "### Anomaly detection\n",
    "\n",
    "Anomaly detection is a specific type of clustering where one is trying to detect whether a data point is noise or not. This is used to check whether a credit card transaction is fraudulent, or for instance, if a machine needs repair.\n",
    "\n",
    "Though it could be supervised, the main concept behind anomaly detection is that anomalies are rare or have yet to occur.\n",
    "\n",
    "### Dimensionality reduction\n",
    "\n",
    "Dimensionality reduction is a task that transforms data into a lower dimension. It could for instance transform images into a compressed format, or help visualize, otherwise high-dimensional, datasets.\n",
    "\n",
    "### Association-rule learning\n",
    "\n",
    "Association-rule learning tries to find relationships between events. For instance, it tries to infer that customers who buy product A, also buy product B, or that people who visit website A and website B, will also visit website C.\n",
    "\n",
    "## Reinforcement learning\n",
    "\n",
    "Reinforcement learning is the task of learning an appropriate behaviour within an environment. For instance, how to get out of a maze, or how to navigate a car through traffic. It is often referred to as “learning with a critic” because often, the optimal behaviour is not known, and therefore cannot be taught. Instead, we are able to tell how good or how bad a decision was. Learning becomes then trying to receive as much positive feedback, and as little negative feedback, as possible."
   ]
  },
  {
   "cell_type": "code",
   "execution_count": null,
   "metadata": {},
   "outputs": [],
   "source": []
  }
 ],
 "metadata": {
  "kernelspec": {
   "display_name": "Python 3",
   "language": "python",
   "name": "python3"
  },
  "language_info": {
   "codemirror_mode": {
    "name": "ipython",
    "version": 3
   },
   "file_extension": ".py",
   "mimetype": "text/x-python",
   "name": "python",
   "nbconvert_exporter": "python",
   "pygments_lexer": "ipython3",
   "version": "3.6.4"
  }
 },
 "nbformat": 4,
 "nbformat_minor": 2
}

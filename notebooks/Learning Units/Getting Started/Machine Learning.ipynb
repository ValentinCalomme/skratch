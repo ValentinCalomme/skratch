{
 "cells": [
  {
   "cell_type": "markdown",
   "metadata": {},
   "source": [
    "# What is Machine Learning?\n",
    "\n",
    "The term \"Machine Learning\" is often considered to have been coined by Arthur Samuel in 1959. Samuel was a pioneer&nbsp;in the field of artificial intelligence and is famous for having written a checkers-playing program, one of the first self-learning programs in the world. He came up with the following definition for Machine Learning:\n",
    "\n",
    "<strong>\"Machine Learning&nbsp;is a field of computer science that gives computers the ability to learn without being explicitly programmed.\"&nbsp;</strong>\n",
    "\n",
    "The most important part of the definition is what he calls \"being explicitly programmed\". Indeed, one could say that machine learning is <em>implicit programming</em> whereas traditional computer science is <em>explicit programming.</em> Let's say that we would like to build a spam detection system for an e-mail client. The goal of such a system would be to correctly identify spam whilst never filtering out e-mails that are not spam.\n",
    "\n",
    "Let's assume that our input is an e-mail object containing information about the content of the e-mail, the sender, the time it was sent etc."
   ]
  },
  {
   "cell_type": "code",
   "execution_count": 47,
   "metadata": {},
   "outputs": [],
   "source": [
    "class Email:\n",
    "    def __init__(self, content, sender, **kwargs):\n",
    "        self.content = content\n",
    "        self.sender = sender\n",
    "\n",
    "spams = [Email(content=\"Hey, this is spam, give me your money\", sender=\"scammer@aol.com\"),\n",
    "         Email(content=\"Hey, give me your money please!\", sender=\"spammer@aol.com\")]\n",
    "\n",
    "hams = [Email(content=\"Hey, this is mom\", sender=\"mum@aol.com\"),\n",
    "        Email(content=\"Hey, give me your address please!\", sender=\"dad@aol.com\")]"
   ]
  },
  {
   "cell_type": "markdown",
   "metadata": {},
   "source": [
    "We would like to build some function that tells us whether such an e-mail is indeed spam."
   ]
  },
  {
   "cell_type": "markdown",
   "metadata": {},
   "source": [
    "## Explicit programming - The traditional computer science approach\n",
    "\n",
    "To explicitly program a computer to detect spam e-mails, we would write code that would detail each decision the computer would have to make when being fed an e-mail as input. This could include analyzing the sender, whether the e-mail contains certain words, and so on.\n",
    "\n",
    "A simplistic explicit program could, for instance, check whether the strings \"spam\" or \"money\" are present in the e-mail."
   ]
  },
  {
   "cell_type": "code",
   "execution_count": 48,
   "metadata": {},
   "outputs": [],
   "source": [
    "class SpamFilter:\n",
    "\n",
    "    def isSpam(self, email):\n",
    "        \n",
    "        blacklisted_phrases = [\"money\", \"spam\"]\n",
    "        \n",
    "        blacklisted_phrase_found = any([phrase in email.content for phrase in blacklisted_phrases])\n",
    "        \n",
    "        return blacklisted_phrase_found"
   ]
  },
  {
   "cell_type": "markdown",
   "metadata": {},
   "source": [
    "But perhaps, spammers become smarter and stop using these phrases. Therefore, we could also create a list of blocked senders and check whether the e-mail was sent by one of them."
   ]
  },
  {
   "cell_type": "code",
   "execution_count": 54,
   "metadata": {},
   "outputs": [],
   "source": [
    "class SpamFilter:\n",
    "\n",
    "    def isSpam(self, email):\n",
    "        \n",
    "        blacklisted_words = [\"money\", \"spam\"]\n",
    "        blocked_senders = [\"scammer@aol.com\", \"spammer@aol.com\"]\n",
    "        \n",
    "        blacklisted_word_found = any([phrase in email.content for phrase in blacklisted_words])\n",
    "        sent_by_blocked_sender = email.sender in self.blocked_senders\n",
    "        \n",
    "        return blacklisted_word_found or sent_by_blocked_sender"
   ]
  },
  {
   "cell_type": "markdown",
   "metadata": {},
   "source": [
    "And so on. We could come up with as many rules as we'd like, and end up with a rather elaborate and complex program."
   ]
  },
  {
   "cell_type": "markdown",
   "metadata": {},
   "source": [
    "## Implicitly programmed - The machine learning approach\n",
    "\n",
    "Implicitly programming a computer to detect spam e-mails is not completely different from explicitly programming it. We would also need to write a program that is able to filter spams given a set of rules. The real difference comes with how the rules are created. In the previous example, we had to explicitly write out what the rules were. We had to create the list of blocked senders and define that <em>\"this is a spam\"</em> is a string that is indicative of spam e-mails. In machine learning, we let the program learn these rules on its own.\n",
    "\n",
    "So how does that look like? Our `isSpam` function would look very similar to before."
   ]
  },
  {
   "cell_type": "code",
   "execution_count": 59,
   "metadata": {},
   "outputs": [],
   "source": [
    "class SpamFilter:\n",
    "\n",
    "    def isSpam(self, email):\n",
    "        \n",
    "        blacklisted_word_found = any([word in email.content for word in self.blacklisted_words])\n",
    "        sent_by_blocked_sender = email.sender in self.blocked_senders\n",
    "        \n",
    "        return blacklisted_word_found or sent_by_blocked_sender"
   ]
  },
  {
   "cell_type": "markdown",
   "metadata": {},
   "source": [
    "As you may have seen, we did not define `blacklisted_words` or `blocked_senders` inside the `isSpam` function. Instead, we will learn what should be inside these variables in a function that we'll call `fit`.\n",
    "\n",
    "We will do that by given it e-mails that we already categorized as spam or ham. We will define `blocked_senders` as the set of all senders who ever sent a spam e-mail, and `blacklisted_words` as the set of words that appeared in a spam e-mail and not in a ham e-mail."
   ]
  },
  {
   "cell_type": "code",
   "execution_count": 60,
   "metadata": {},
   "outputs": [],
   "source": [
    "class SpamFilter:\n",
    "\n",
    "    def isSpam(self, email):\n",
    "        \n",
    "        blacklisted_word_found = any([word in email.content for word in self.blacklisted_words])\n",
    "        sent_by_blocked_sender = email.sender in self.blocked_senders\n",
    "        \n",
    "        return blacklisted_word_found or sent_by_blocked_sender\n",
    "    \n",
    "    def fit(self, spams, hams):\n",
    "        \n",
    "        self.blocked_senders = set()\n",
    "        words_found_in_spams = set()\n",
    "        words_found_in_hams = set()\n",
    "        \n",
    "        for email in hams:\n",
    "            for word in email.content.split():\n",
    "                words_found_in_hams.add(word)\n",
    "            \n",
    "        for email in spams:\n",
    "            \n",
    "            self.blocked_senders.add(email.sender)\n",
    "            \n",
    "            for word in email.content.split():\n",
    "                words_found_in_spams.add(word)\n",
    "                     \n",
    "        self.blacklisted_words = words_found_in_spams.difference(words_found_in_hams)\n",
    "\n",
    "        return self"
   ]
  },
  {
   "cell_type": "markdown",
   "metadata": {},
   "source": [
    "This piece of code achieves exactly the same thing as the explicit example if given the e-mails that we defined above. It will learn that spam and money are two words that should be blacklisted and that scammer@aol.com and spammer@aol.com should be blocked. But it does have the advantage that the code doesn’t have to be modified whenever a rule has to be changed."
   ]
  },
  {
   "cell_type": "markdown",
   "metadata": {},
   "source": [
    "# When is Machine Learning useful?\n",
    "\n",
    "As we explained with the spam example, every machine learning program could, in theory, be written as an explicit program. So when should we apply Machine Learning instead of a regular explicit program?\n",
    "\n",
    "## Performance matters\n",
    "\n",
    "Computers can process information much faster than humans can, meaning that they are not only able to come up with more solutions, they are also able to come up with more complex ones. And for many problems, they have shown to come up with better solutions than humans!\n",
    "\n",
    "Machine learning is particularly useful when the human solution is underperforming or perhaps seems a bit too simplistic for the problem at hand. Computers are less biased and might explore solutions that humans didn't think of, resulting in potentially better performance.\n",
    "\n",
    "\n",
    "## Easier to design, easier to maintain\n",
    "\n",
    "Though some problems are small and simple enough to be tackled explicitly by a human, many tasks quickly become too complicated or large to handle. In the spam detection example, it might be feasible for someone to create a fairly good spam filter for themselves. But what if we asked them to create spam filters for thousands of other people? Surely, a single spam filter might be too complex to design, as it would have to account for everyone’s specific interpretation of what spam is. And creating thousands of individual filters is simply not feasible.\n",
    "\n",
    "Machine learning allows us to write a single program that would adapt to everyone’s specific situation, simply because everyone would provide different data and the models would then learn different parameters for each person. On top of this, maintaining and updating all of these filters would be much easier as well since the code itself wouldn’t have to be |modified.\n",
    "\n",
    "## Less dependence on domain experts, and less human bias\n",
    "\n",
    "Without machine learning, solving most tasks requires domain experts. People who understand the problem deeply, its patterns and so on. This quickly leads to problems and limitations since domain experts are typically hard to find, expensive, and might not always be as good as we think.\n",
    "\n",
    "With machine learning, we do not need to know ourselves how a certain task should be solved, we can let the computer figure it out. All we need to provide is feedback to let it know whether or not it's doing well. This way, the computer might even come up with more novel or more creative solutions, ultimately becoming better than if we had explicitly told it what to do. This is exactly what happened with DeepMind's AlphaGo, a computer program that beat the best humans at Go by coming up with its own tactics as opposed to being taught by humans."
   ]
  },
  {
   "cell_type": "markdown",
   "metadata": {},
   "source": [
    "# When can I apply Machine Learning?\n",
    "\n",
    "Beforehand, we discussed in what situations we should apply machine learning, in this section, we'll discuss when we are able to do so.\n",
    "\n",
    "Tom Mitchell defined that for a machine learning problem to be well-posed, it requires 3 properties.\n",
    "\n",
    "## A well-defined class of tasks\n",
    "\n",
    "A machine learning problem needs a well-defined class of tasks to perform, something that it has to be good at. It is important that the class of tasks is clear and concise. It could be categorizing e-mails as spam or not spam, identifying the sentiment of a tweet, or even segmenting customer data into several groups for instance.\n",
    "\n",
    "Remember that any machine learning program could theoretically be written as an explicit program. Therefore, if it cannot be written as an explicit program, it cannot be a machine learning task!\n",
    "\n",
    "## Performance measure\n",
    "\n",
    "Since the goal of a machine learning problem is to be good at a class of tasks, we need to define what “good” means. This might be the percentage of spam e-mails that we accurately detect, how close we are to predicting the real sentiment of a tweet, or how well-separated the customer groups that we segmented are to each other.\n",
    "\n",
    "This performance measure could also include how long it took to train the model, how much data it requires, how human-understandable it is, or other factors. The ultimate goal is to be able to compare two solutions to the same problem and pick the better one, whatever the criteria may be. This means that the performance measure should be able to be represented by a single number.\n",
    "\n",
    "## Experience\n",
    "\n",
    "As we explained before, machine learning programs learn through experience, shall it be data, direct feedback, or else. This experience can come in many shapes or forms. It could be a bunch of e-mails labeled as spam or not spam, the history of the price of bitcoin, demographic data about customers, or even whether or not the program has won specific games of chess.\n",
    "\n",
    "Machine learning programs need experience to know whether or not they are performing well, using the performance measure we mentioned previously. The amount and the quality of the experience it has access to will directly impact how well it will learn, and what it will learn!"
   ]
  },
  {
   "cell_type": "markdown",
   "metadata": {},
   "source": [
    "# Types of Machine Learning Problems\n",
    "\n",
    "Machine learning problems are often put in certain categories as they represent classes of tasks which can be tackled in similar ways. Here is a list of the most common types:\n",
    "\n",
    "## Supervised learning\n",
    "\n",
    "Supervised learning represents the machine learning problems where supervision is provided. This usually means that there exists some gold standard, usually in the form of labelled data, that the program can make use of. This means that the program can check how well it is doing by comparing its output to the gold standard. It is similar to learning with a teacher because the teacher can correct you and provide you with the appropriate answer.\n",
    "\n",
    "### Regression\n",
    "\n",
    "Regression problems try to map an input to a continuous output. For instance, it could be predicting the price of a house or the price of a cryptocurrency tomorrow. It is supervised because there exists correct outputs against which the model can test itself.\n",
    "\n",
    "### Classification\n",
    "\n",
    "Classification is a specific case of regression where the output is discrete. For instance, it can be to predict whether an e-mail is spam or not or whether an image contains a cat, a dog, a giraffe, or none of these.\n",
    "\n",
    "## Unsupervised learning\n",
    "\n",
    "Unsupervised learning, as opposed to supervised learning, unsupervised learning doesn’t have a gold standard that the program can make use of. Instead, its goal is often to infer some structure about data.\n",
    "\n",
    "### Clustering\n",
    "\n",
    "Clustering is the task of grouping data points in meaningful groups. This could be used for customer segmentation for instance, or even to find meaningful topics in the news.\n",
    "\n",
    "### Anomaly detection\n",
    "\n",
    "Anomaly detection is a specific type of clustering where one is trying to detect whether a data point is noise or not. This is used to check whether a credit card transaction is fraudulent, or for instance, if a machine needs repair.\n",
    "\n",
    "Though it could be supervised, the main concept behind anomaly detection is that anomalies are rare or have yet to occur.\n",
    "\n",
    "### Dimensionality reduction\n",
    "\n",
    "Dimensionality reduction is a task that transforms data into a lower dimension. It could for instance transform images into a compressed format, or help visualize, otherwise high-dimensional, datasets.\n",
    "\n",
    "### Association-rule learning\n",
    "\n",
    "Association-rule learning tries to find relationships between events. For instance, it tries to infer that customers who buy product A, also buy product B, or that people who visit website A and website B, will also visit website C.\n",
    "\n",
    "## Reinforcement learning\n",
    "\n",
    "Reinforcement learning is the task of learning an appropriate behaviour within an environment. For instance, how to get out of a maze, or how to navigate a car through traffic. It is often referred to as “learning with a critic” because often, the optimal behaviour is not known, and therefore cannot be taught. Instead, we are able to tell how good or how bad a decision was. Learning then becomes trying to receive as much positive feedback, and as little negative feedback, as possible."
   ]
  },
  {
   "cell_type": "code",
   "execution_count": null,
   "metadata": {},
   "outputs": [],
   "source": []
  }
 ],
 "metadata": {
  "kernelspec": {
   "display_name": "Python 3",
   "language": "python",
   "name": "python3"
  },
  "language_info": {
   "codemirror_mode": {
    "name": "ipython",
    "version": 3
   },
   "file_extension": ".py",
   "mimetype": "text/x-python",
   "name": "python",
   "nbconvert_exporter": "python",
   "pygments_lexer": "ipython3",
   "version": "3.6.4"
  }
 },
 "nbformat": 4,
 "nbformat_minor": 2
}

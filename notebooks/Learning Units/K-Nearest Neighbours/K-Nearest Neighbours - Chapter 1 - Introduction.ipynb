{
 "cells": [
  {
   "cell_type": "markdown",
   "metadata": {},
   "source": [
    "# Introduction\n",
    "\n",
    "K-Nearest Neighbours is one of the oldest machine learning algorithms. It can be used for both classification and regression, and can also be used as a meta-learner. The intuition behind K-Nearest Neighbours is one of the core assumptions in machine learning: \n",
    "\n",
    "**“Data points that are similar to each other will also behave similarly.”**\n",
    "\n",
    "In the real world, you would, for instance, guess that two houses that are very similar to each other could be sold for approximately the same price. Or for instance, two e-mails that are similar to each other are pretty much as likely to be spam or not.\n",
    "\n",
    "![](https://skratch.valentincalomme.com/wp-content/uploads/2018/08/knn.png)\n",
    "\n",
    "By looking at the plot above, the gray point is surrounded by red points, and therefore, it seems natural to classify it as red. This reasoning can be essentially summarized as “a point will have the class that most of its neighbours also have”. Similarly, if all of these points were assigned some sort of value, it would make sense to assign the gray point, a value that is similar to the value of its neighbours.\n",
    "\n",
    "This simple intuition is what K-Nearest Neighbours uses for both classification and regression!"
   ]
  }
 ],
 "metadata": {
  "kernelspec": {
   "display_name": "Python 3",
   "language": "python",
   "name": "python3"
  },
  "language_info": {
   "codemirror_mode": {
    "name": "ipython",
    "version": 3
   },
   "file_extension": ".py",
   "mimetype": "text/x-python",
   "name": "python",
   "nbconvert_exporter": "python",
   "pygments_lexer": "ipython3",
   "version": "3.6.4"
  }
 },
 "nbformat": 4,
 "nbformat_minor": 2
}

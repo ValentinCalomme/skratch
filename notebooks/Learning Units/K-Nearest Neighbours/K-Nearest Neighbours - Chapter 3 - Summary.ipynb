{
 "cells": [
  {
   "cell_type": "markdown",
   "metadata": {},
   "source": [
    "# Summary\n",
    "\n",
    "## Pros\n",
    "- Easy to implement\n",
    "- Can perform well even with limited data\n",
    "- Can be used for classification, regression, or as a meta-learner\n",
    "- Lazy learner, so easy to update\n",
    "\n",
    "## Cons\n",
    "- Simplistic (linear boundaries)\n",
    "- Computing distances can be expensive\n",
    "- Appropriate similarity measure has to be picked\n",
    "- Predictions can be slow\n",
    "\n",
    "![](https://skratch.valentincalomme.com/wp-content/uploads/2018/08/knn_classification_anim-2.gif)"
   ]
  },
  {
   "cell_type": "markdown",
   "metadata": {},
   "source": [
    "## Why is KNN called a lazy learner?\n",
    "\n",
    "A lazy learner is a model that only learns when it is asked to make a prediction. KNN is a lazy learner because as we’ve shown, the inference happens in the predict method as opposed to the fit method.\n",
    "\n",
    "## What is the best value for $K$?\n",
    "\n",
    "$K$ is a hyperparameter and picking the right one is highly dependent on the task at hand. Typically, only odd numbers are chosen to avoid ties, and because of Occam’s razor, it is often assumed that smaller values of $K$ are preferable. Sometimes, a rule of thumb of choosing  $K=\\frac{n}{\\sqrt{2}}$ is proposed if there are n data points, but there is no strong theory behind it.\n",
    "\n",
    "## What distance measure if best?\n",
    "\n",
    "Again, picking an appropriate distance measure can make a huge difference with KNN. Since it is a lazy learner, and therefore doesn’t require training time, it is often possible\n",
    "to plainly compare different distance measures and pick the best one.\n",
    "\n",
    "## Why is weighting used?\n",
    "\n",
    "Weighting the neighbours can turn out to be useful to increase the performance, but it is always wise to experiment with and without weighting to see what performs best. In our case, we gave higher weights to the closest neighbours, but more complex weighting schemes can be used.\n",
    "\n",
    "## Why is KNN a meta-learner?\n",
    "\n",
    "KNN is a meta-learner in the sense that the voting scheme can be made as complex as you want. If you’d like to replace the majority voting scheme explained in this tutorial, by a deep neural network, it is entirely possible. It is considered a meta-learner because it learns “how to learn” by selecting the instances on which a decision has to then be made.\n",
    "\n",
    "## Are there other ways to find the closest neighbours?\n",
    "\n",
    "The K-nearest neighbours according to a certain distance measure will always be the same, but there exist many different algorithms to find them efficiently. A famous one involves storing the data in a KD-tree. In this tutorial, we used brute force, but in some cases, this might take too much time."
   ]
  },
  {
   "cell_type": "markdown",
   "metadata": {},
   "source": [
    "## Tutorials\n",
    "\n",
    "[Machine Learning Mastery](https://machinelearningmastery.com/tutorial-to-implement-k-nearest-neighbors-in-python-from-scratch/)\n",
    "\n",
    "## Implementations\n",
    "\n",
    "[ML from scratch](https://github.com/eriklindernoren/ML-From-Scratch/blob/master/mlfromscratch/supervised_learning/k_nearest_neighbors.py)\n",
    "[sklearn](http://scikit-learn.org/stable/modules/neighbors.html)\n",
    "\n",
    "## Videos\n",
    "\n",
    "[Thales Sehn Körting](https://www.youtube.com/watch?v=UqYde-LULfs)\n",
    "[Mathematical Monk](https://www.youtube.com/watch?v=4ObVzTuFivY)\n",
    "\n",
    "## Other\n",
    "\n",
    "[KNN (Wikipedia)](https://en.wikipedia.org/wiki/K-nearest_neighbors_algorithm)"
   ]
  }
 ],
 "metadata": {
  "kernelspec": {
   "display_name": "Python 3",
   "language": "python",
   "name": "python3"
  },
  "language_info": {
   "codemirror_mode": {
    "name": "ipython",
    "version": 3
   },
   "file_extension": ".py",
   "mimetype": "text/x-python",
   "name": "python",
   "nbconvert_exporter": "python",
   "pygments_lexer": "ipython3",
   "version": "3.6.4"
  }
 },
 "nbformat": 4,
 "nbformat_minor": 2
}

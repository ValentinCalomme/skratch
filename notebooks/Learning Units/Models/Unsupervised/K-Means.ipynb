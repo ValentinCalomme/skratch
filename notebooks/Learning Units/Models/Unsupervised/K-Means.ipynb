{
 "cells": [
  {
   "cell_type": "markdown",
   "metadata": {},
   "source": [
    "# K-Means\n",
    "\n",
    "## About the model\n",
    "\n",
    "K-Means is a famous algorithm used for clustering. It was originally invented by Stuart Lloyd in 1957, but was never published until the 1980s. In the meantime, E. W. Forgy published more or less the same technique, and therefore, K-Means is sometimes referred to as the Lloyd-Forgy method.\n",
    "\n",
    "## Pros\n",
    "\n",
    "- Number of clusters can be defined\n",
    "- Scales well\n",
    "- Easy to implement\n",
    "- Easy to interpret\n",
    "\n",
    "## Cons\n",
    "\n",
    "- Number of clusters has to be defined\n",
    "- Is biased towards spherical clusters of the same size\n",
    "- Appropriate distance measure has to be picked\n",
    "- Convergence is dependent on initialization"
   ]
  },
  {
   "cell_type": "markdown",
   "metadata": {},
   "source": [
    "## Introduction \n",
    "\n",
    "K-Means is a very popular clustering algorithm. It clusters $n$ data points into $K$ distinct clusters. These clusters are represented by the mean of the elements in it, also called centroids.\n",
    "\n",
    "To show this, let's plot some data."
   ]
  },
  {
   "cell_type": "code",
   "execution_count": 9,
   "metadata": {},
   "outputs": [
    {
     "data": {
      "image/png": "[encoded data removed]",
      "text/plain": [
       "<Figure size 1440x720 with 1 Axes>"
      ]
     },
     "metadata": {},
     "output_type": "display_data"
    }
   ],
   "source": [
    "from sklearn.datasets import make_blobs\n",
    "import matplotlib.pyplot as plt\n",
    "\n",
    "X, _ = make_blobs(n_samples=200, n_features=2, centers=3)\n",
    "fig = plt.figure(figsize=(20,10))\n",
    "plt.scatter(X[:, 0], X[:, 1])\n",
    "plt.savefig(\"../kmeans_intro.png\", dpi=100)\n",
    "plt.show()"
   ]
  },
  {
   "cell_type": "markdown",
   "metadata": {},
   "source": [
    "As we can see, there seems to be 3 distinct groups. In K-Means, they would be represented by taking the average point of all points belonging to a certain cluster. These are called the centroids.\n",
    "\n",
    "Here is the algorithm to find these centroids:\n",
    "\n",
    "- create K centroids\n",
    "- assign each point to a centroid (and therefore a cluster)\n",
    "- update centroids by average points in each each cluster\n",
    "- repeat until clusters have converged\n",
    "\n",
    "Now, let's how this would work in code."
   ]
  },
  {
   "cell_type": "markdown",
   "metadata": {},
   "source": [
    "## Implementation from \"skratch\""
   ]
  },
  {
   "cell_type": "markdown",
   "metadata": {},
   "source": [
    "First, we create a `KMeans` object. All we need to define is the value of $K$, some random seed, and how many times we want to run the algorithm. To have more insights on why several runs are necessary, go to the FAQ."
   ]
  },
  {
   "cell_type": "code",
   "execution_count": 1,
   "metadata": {},
   "outputs": [],
   "source": [
    "import sys ; sys.path.append(\"../source\")\n",
    "import numpy as np\n",
    "import copy\n",
    "\n",
    "from utils.distances import euclidean\n",
    "\n",
    "\n",
    "class KMeans:\n",
    "\n",
    "    def __init__(self, k=3, seed=0, n_runs=10):\n",
    "\n",
    "        self.k = k\n",
    "        self.rnd = np.random.RandomState(seed)\n",
    "        self.n_runs = n_runs"
   ]
  },
  {
   "cell_type": "markdown",
   "metadata": {},
   "source": [
    "As any model, we need to define how it fits the training data. In K-Means, we run the algorithm multiple times, and then pick the best solution given a performance measure."
   ]
  },
  {
   "cell_type": "code",
   "execution_count": 35,
   "metadata": {},
   "outputs": [],
   "source": [
    "    def fit(self, X, y=None):\n",
    "\n",
    "        self.score_ = float('inf')  # initialize as worst possible performance/score\n",
    "\n",
    "        for run in range(self.n_runs):\n",
    "\n",
    "            for c, l in self._fit(X, y):\n",
    "                centroids, labels = c, l\n",
    "\n",
    "            performance = self._performance(X, centroids, labels)\n",
    "\n",
    "            if performance < self.score_:\n",
    "\n",
    "                self.score_ = performance\n",
    "                self.centroids_ = centroids\n",
    "                self.labels_ = labels\n",
    "\n",
    "        return self"
   ]
  },
  {
   "cell_type": "markdown",
   "metadata": {},
   "source": [
    "The algorithm is defined in the `_fit` function. As explained before, we initialize the centroids. Then we assign each data point to one of the clusters. We then update the centroids, and continue until the data points do not change clusters anymore."
   ]
  },
  {
   "cell_type": "code",
   "execution_count": 36,
   "metadata": {},
   "outputs": [],
   "source": [
    "    def _fit(self, X, y=None):\n",
    "\n",
    "        centroids = self._initialize_centroids(X)\n",
    "        labels = self._compute_labels(X, centroids)\n",
    "        old_labels = np.full_like(labels, -1)\n",
    "\n",
    "        while any(old_labels != labels):\n",
    "\n",
    "            old_labels = labels\n",
    "            centroids = self._compute_centroids(X, labels)\n",
    "            labels = self._compute_labels(X, centroids)\n",
    "\n",
    "            yield centroids, labels"
   ]
  },
  {
   "cell_type": "markdown",
   "metadata": {},
   "source": [
    "In order to initialize the centroids, there are multiple ways. In our case, we will simply pick $K$ random data points. For more ways to initialize the centroids, go to the FAQ."
   ]
  },
  {
   "cell_type": "code",
   "execution_count": 37,
   "metadata": {},
   "outputs": [],
   "source": [
    "    def _initialize_centroids(self, X):\n",
    "\n",
    "        self.rnd.shuffle(X.copy()) # copy the data to not shuffle it in place\n",
    "        return X[:self.k]"
   ]
  },
  {
   "cell_type": "markdown",
   "metadata": {},
   "source": [
    "Since K-Means relies on finding the closest data points to a certain centroid, we need to define a distance measure. Typically, this distance measure is the `Euclidean` distance as it reduces the within-cluster variance."
   ]
  },
  {
   "cell_type": "code",
   "execution_count": 38,
   "metadata": {},
   "outputs": [],
   "source": [
    "    def _distance(self, a, b):\n",
    "\n",
    "        return euclidean(a, b)"
   ]
  },
  {
   "cell_type": "markdown",
   "metadata": {},
   "source": [
    "After we've initialized centroids, we need to define which cluster each data point belongs to. To do so, we compute the distance between each point and all centroids, and assign the data point to the cluster defined by the centroid to which it is closest."
   ]
  },
  {
   "cell_type": "code",
   "execution_count": 39,
   "metadata": {},
   "outputs": [],
   "source": [
    "    def _compute_labels(self, X, centroids):\n",
    "\n",
    "        labels = []\n",
    "\n",
    "        for x in X:\n",
    "\n",
    "            distances = [self._distance(x, centroid) for centroid in centroids]\n",
    "            label = np.argmin(distances)\n",
    "            labels.append(label)\n",
    "\n",
    "        return np.array(labels)"
   ]
  },
  {
   "cell_type": "markdown",
   "metadata": {},
   "source": [
    "On the other hand, to update the centroids, we compute the average data point assigned to that specific centroid."
   ]
  },
  {
   "cell_type": "code",
   "execution_count": 40,
   "metadata": {},
   "outputs": [],
   "source": [
    "    def _compute_centroids(self, X, labels):\n",
    "\n",
    "        centroids = []\n",
    "\n",
    "        for i in range(self.k):\n",
    "\n",
    "            centroid = np.mean(X[labels == i], axis=0)\n",
    "            centroids.append(centroid)\n",
    "\n",
    "        return np.array(centroids)"
   ]
  },
  {
   "cell_type": "markdown",
   "metadata": {},
   "source": [
    "To determine which run was most successful, we must define a performance measure. Typically, this performance measure is the intro-cluster mean squared distance. In other words, we calculate the distance between each point and their closest centroid, square it, and then take the average."
   ]
  },
  {
   "cell_type": "code",
   "execution_count": 2,
   "metadata": {},
   "outputs": [],
   "source": [
    "    def _inertia(self, X, centroids, labels):\n",
    "\n",
    "        distances = []\n",
    "\n",
    "        for i, centroid in enumerate(centroids):\n",
    "\n",
    "            distances.extend([self._distance(x, centroid) for x in X[labels == i]])\n",
    "\n",
    "        return np.sum(distances)"
   ]
  },
  {
   "cell_type": "markdown",
   "metadata": {},
   "source": [
    "If we are given a new data point, we can determine to which cluster it belongs by using the `_compute_labels` function we defined previously."
   ]
  },
  {
   "cell_type": "code",
   "execution_count": 42,
   "metadata": {},
   "outputs": [],
   "source": [
    "    def predict(self, X):\n",
    "\n",
    "        return self._compute_labels(X, self.centroids_)"
   ]
  },
  {
   "cell_type": "markdown",
   "metadata": {},
   "source": [
    "## FAQ\n",
    "\n",
    "### What is the right value of K?\n",
    "\n",
    "K is a hyperparameter and therefore, it can be tuned. Typically, one will try multiple values of $K$ and will use the [Elbow Method](https://bl.ocks.org/rpgove/0060ff3b656618e9136b) to find the best value.\n",
    "\n",
    "### Why are several runs needed?\n",
    "\n",
    "The algorithm gives no guarantee to find the best clusters every time. Indeed, based on the first random clusters, the algorithm might converge to a different solution. This is why, K-Means is typically run multiple times in order to increase the chances to not get stuck with a bad solution.\n",
    "\n",
    "### Can we use different distance metrics?\n",
    "\n",
    "K-Means is [not guaranteed to converge with arbitrary distance metrics](https://stats.stackexchange.com/questions/81481/why-does-k-means-clustering-algorithm-use-only-euclidean-distance-metric). K-Means itself does not make use of distance measures per se, it only cares about reducing the within-cluster variance. It happens to be linked with the Euclidean distance, but this doesn't always work with arbitrary distances.\n",
    "\n",
    "If you want to use arbitrary distances, you must use [K-Medoids](https://en.wikipedia.org/wiki/K-medoids). If you want to reduce the L1-norm, then you can use [K-Medians](https://en.wikipedia.org/wiki/K-medians_clustering)."
   ]
  },
  {
   "cell_type": "markdown",
   "metadata": {},
   "source": [
    "## Useful resources\n",
    "\n",
    "Wikipedia:\n",
    "\n",
    "https://en.wikipedia.org/wiki/K-means_clustering   \n",
    "https://en.wikipedia.org/wiki/K-means%2B%2B   \n",
    "\n",
    "Tutorials:  \n",
    "\n",
    "https://www.coursera.org/learn/machine-learning/lecture/93VPG/k-means-algorithm (Andrew Ng)   \n",
    "https://www.r-bloggers.com/k-means-clustering-in-r/   \n",
    "http://home.deib.polimi.it/matteucc/Clustering/tutorial_html/kmeans.html   \n",
    "https://www.datascience.com/blog/k-means-clustering   \n",
    "https://www.dezyre.com/data-science-in-r-programming-tutorial/k-means-clustering-techniques-tutorial   \n",
    "https://dataanalyticsmastery.wordpress.com/2017/05/25/complete-guide-to-kmeans-clustering/   \n",
    "\n",
    "Implementations:\n",
    "\n",
    "https://github.com/muesli/kmeans (Go)   \n",
    "http://scikit-learn.org/stable/modules/generated/sklearn.cluster.KMeans.html   \n",
    "https://github.com/eriklindernoren/ML-From-Scratch/blob/master/mlfromscratch/unsupervised_learning/k_means.py   \n",
    "\n",
    "Videos:\n",
    "https://www.youtube.com/watch?v=_aWzGGNrcic\n",
    "https://www.youtube.com/watch?v=hDmNF9JG3lo (Andrew Ng)\n",
    "https://www.youtube.com/watch?v=9991JlKnFmk\n",
    "https://www.youtube.com/watch?v=yR7k19YBqiw\n",
    "https://www.youtube.com/watch?v=4R8nWDh-wA0"
   ]
  }
 ],
 "metadata": {
  "kernelspec": {
   "display_name": "Python 3",
   "language": "python",
   "name": "python3"
  },
  "language_info": {
   "codemirror_mode": {
    "name": "ipython",
    "version": 3
   },
   "file_extension": ".py",
   "mimetype": "text/x-python",
   "name": "python",
   "nbconvert_exporter": "python",
   "pygments_lexer": "ipython3",
   "version": "3.6.4"
  }
 },
 "nbformat": 4,
 "nbformat_minor": 2
}

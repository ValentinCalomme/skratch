{
 "cells": [
  {
   "cell_type": "markdown",
   "metadata": {},
   "source": [
    "# Introduction\n",
    "\n",
    "Mean Shift is a non-parametric algorithm which can be used for clustering. One of the big advantages of Mean Shift is that it can find an arbitrary number of clusters. The intuition behind how it works is the following.\n",
    "\n",
    "Mean Shift assumes that the data points are generated according to some probability density distribution. Visually, this density distribution would look like a map of some terrain, where points are more likely to be generated near the “peaks”. Mean Shift tries to find clusters by finding these high-density regions. This works by first assuming that there are peaks at every data point. Then, these points iteratively “shift” towards a higher-density region. Once all points have shifted towards a peak, the centers of the clusters have been found."
   ]
  },
  {
   "cell_type": "markdown",
   "metadata": {},
   "source": [
    "![](https://skratch.valentincalomme.com/wp-content/uploads/2018/09/mean_shift.gif)"
   ]
  },
  {
   "cell_type": "markdown",
   "metadata": {},
   "source": [
    "Mathematically, this notion of high-density is represented by the use of a [kernel function](https://en.wikipedia.org/wiki/Positive-definite_kernel). Intuitively, kernels functions represent some form of similarity between data points. By computing all pairwise kernel values for the points in a data set, we can estimate the probability density function, and therefore find local maxima. A famous kernel function is the [radial basis function](https://en.wikipedia.org/wiki/Radial_basis_function_kernel).\n",
    "\n",
    "These are the steps of the algorithm:\n",
    "\n",
    "- Assign every data point as a center\n",
    "- Compute the kernel density between each center and all data points\n",
    "- Shift the center by calculating the weighted average of all points based on kernel densities\n",
    "- Repeat until all centers have converged"
   ]
  }
 ],
 "metadata": {
  "kernelspec": {
   "display_name": "Python 3",
   "language": "python",
   "name": "python3"
  },
  "language_info": {
   "codemirror_mode": {
    "name": "ipython",
    "version": 3
   },
   "file_extension": ".py",
   "mimetype": "text/x-python",
   "name": "python",
   "nbconvert_exporter": "python",
   "pygments_lexer": "ipython3",
   "version": "3.6.4"
  }
 },
 "nbformat": 4,
 "nbformat_minor": 2
}

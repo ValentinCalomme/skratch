{
 "cells": [
  {
   "cell_type": "markdown",
   "metadata": {},
   "source": [
    "# Mean Shift\n",
    "\n",
    "Let’s implement Mean Shift from scratch. First, we’ll have to define a Mean Shift object."
   ]
  },
  {
   "cell_type": "code",
   "execution_count": null,
   "metadata": {},
   "outputs": [],
   "source": [
    "import numpy as np\n",
    " \n",
    "from utils.kernels import RBF\n",
    "from utils.distances import euclidean\n",
    " \n",
    " \n",
    "class MeanShift:\n",
    " \n",
    "    def __init__(self, bandwidth=1, tol=1E-7):\n",
    " \n",
    "        self.bandwidth = bandwidth\n",
    "        self.tol = 1 - tol\n",
    "        self.kernel = RBF(gamma=self.bandwidth)"
   ]
  },
  {
   "cell_type": "markdown",
   "metadata": {},
   "source": [
    "The bandwidth parameter is there to parameterize the Radial Basis Function kernel. Now, let’s assumed that we have a trained model. This means that we have centers representing our clusters. Assigning a new point to a cluster comes down to assigning the point to its closest cluster. In this case we will use the Euclidean distance."
   ]
  },
  {
   "cell_type": "code",
   "execution_count": null,
   "metadata": {},
   "outputs": [],
   "source": [
    "    def _compute_labels(self, X, centers):\n",
    "\n",
    "        labels = []\n",
    "\n",
    "        for x in X:\n",
    "\n",
    "            distances = np.array([euclidean(x, center) for center in centers])\n",
    "            label = np.argmin(distances)\n",
    "            labels.append(label)\n",
    "\n",
    "        _, labels = np.unique(labels, return_inverse=True)\n",
    "        return np.array(labels, dtype=np.int)\n",
    "\n",
    "    def predict(self, X):\n",
    "\n",
    "        labels = self._compute_labels(X, self.cluster_centers_)\n",
    "\n",
    "        return labels"
   ]
  },
  {
   "cell_type": "markdown",
   "metadata": {},
   "source": [
    "Now, let’s look at how we can train our model. Given some data, we first start by creating a center for each point in the data. Then, until convergence, we shift and merge centers."
   ]
  },
  {
   "cell_type": "code",
   "execution_count": null,
   "metadata": {},
   "outputs": [],
   "source": [
    "    def fit(self, X):\n",
    "\n",
    "        for labels, centers in self._fit(X):\n",
    "\n",
    "            self.labels_ = labels\n",
    "            self.cluster_centers_ = centers\n",
    "\n",
    "        return self\n",
    "\n",
    "    def _fit(self, X):\n",
    "\n",
    "        old_centers = np.array([])\n",
    "        new_centers = X\n",
    "        labels = -np.ones(len(X))  # -1 represents an \"orphan\"\n",
    "\n",
    "        while not self._has_converged(old_centers, new_centers):\n",
    "\n",
    "            yield labels, new_centers\n",
    "\n",
    "            old_centers = new_centers\n",
    "            new_centers = []\n",
    "\n",
    "            for center in old_centers:\n",
    "\n",
    "                shifted_center = self._shift(center, X)\n",
    "                new_centers.append(shifted_center)\n",
    "\n",
    "            new_centers = self._merge_centers(new_centers)\n",
    "            labels = self._compute_labels(X, new_centers)"
   ]
  },
  {
   "cell_type": "markdown",
   "metadata": {},
   "source": [
    "An important function is the <i><b>_shift</i></b> function. To shift a center, we calculate the density values between the center and all points. Then, the new center is created by taking a weighted average of the data points. The difference in position between the old and new center is what is referred to as the __shift__."
   ]
  },
  {
   "cell_type": "code",
   "execution_count": null,
   "metadata": {},
   "outputs": [],
   "source": [
    "    def _shift(self, x, X):\n",
    "\n",
    "        densities = [self.kernel(x, x_) for x_ in X]\n",
    "\n",
    "        shifted_center = np.average(X, weights=densities, axis=0)\n",
    "\n",
    "        return shifted_center"
   ]
  },
  {
   "cell_type": "markdown",
   "metadata": {},
   "source": [
    "Since all centers will eventually converge, some centers might need to be merged to speed up computation. Also, because of computer arithmetic, centers will rarely be exactly at the same position. Therefore, we redefine each center as the average of all centers that are within a certain high-density region around it. This way, we end up with identical centers, which we merge."
   ]
  },
  {
   "cell_type": "code",
   "execution_count": null,
   "metadata": {},
   "outputs": [],
   "source": [
    "    def _merge_centers(self, centers):\n",
    "\n",
    "        centers = np.unique(centers, axis=0)\n",
    "        new_centers = []\n",
    "\n",
    "        for c in centers:\n",
    "            distances = np.array([self.kernel(c, c_) for c_ in centers])\n",
    "            new_centers.append(np.mean(centers[distances > self.tol], axis=0))\n",
    "\n",
    "        centers = np.unique(new_centers, axis=0)\n",
    "\n",
    "        return centers"
   ]
  },
  {
   "cell_type": "markdown",
   "metadata": {},
   "source": [
    "In our case, we define convergence as the moment where the shifted centers are “close enough” to the old centers."
   ]
  },
  {
   "cell_type": "code",
   "execution_count": null,
   "metadata": {},
   "outputs": [],
   "source": [
    "    def _has_converged(self, old, new):\n",
    "\n",
    "        if len(old) == len(new):\n",
    "\n",
    "            for i in range(len(new)):\n",
    "                if self.kernel(old[i], new[i]) < 1.0:\n",
    "                    return False\n",
    "\n",
    "            return True\n",
    "        else:\n",
    "            return False"
   ]
  }
 ],
 "metadata": {
  "kernelspec": {
   "display_name": "Python 3",
   "language": "python",
   "name": "python3"
  },
  "language_info": {
   "codemirror_mode": {
    "name": "ipython",
    "version": 3
   },
   "file_extension": ".py",
   "mimetype": "text/x-python",
   "name": "python",
   "nbconvert_exporter": "python",
   "pygments_lexer": "ipython3",
   "version": "3.6.4"
  }
 },
 "nbformat": 4,
 "nbformat_minor": 2
}

{
 "cells": [
  {
   "cell_type": "markdown",
   "metadata": {},
   "source": [
    "# Summary\n",
    "\n",
    "## Pros\n",
    "\n",
    "- Can find an arbitrary number of clusters\n",
    "- Capable of clustering arbitrary shapes\n",
    "- The only parameter is the kernel used\n",
    "- Can cluster arbitrary feature spaces\n",
    "\n",
    "## Cons\n",
    "\n",
    "- Slow\n",
    "- Finding the right kernel can be difficult\n",
    "- Numerical errors can cause issues\n",
    "- Merging and convergence strategies have to be defined\n",
    "\n",
    "How to deal with large amounts of data?\n",
    "Mean Shift is by its nature a slow algorithm. Indeed, at every iteration, each center has to compute many pairwise functions. One way to overcome this is to use a batched version of the algorithm. It means that the density distribution will be estimated on a subset of the data at each iteration. This will likely make each shift less “effective”, but it has the benefit of putting an upper-bound on the number of pairwise computations required.\n",
    "\n",
    "How to use Mean Shift for image segmentation?\n",
    "Mean Shift can be used for image segmentation. Because it can cluster arbitrary shapes in arbitrary feature spaces, we can define our image as a set of vectors representing the RGB intensities as well as the coordinates of each pixel. This way, pixels that are physically close to each other or that have similar colours will be clustered together\n",
    "\n",
    "![](https://skratch.valentincalomme.com/wp-content/uploads/2018/09/mean_shift.gif)"
   ]
  },
  {
   "cell_type": "markdown",
   "metadata": {},
   "source": [
    "## Tutorials\n",
    "\n",
    "[Python Programming](https://pythonprogramming.net/mean-shift-from-scratch-python-machine-learning-tutorial/)\n",
    "[efavdb](http://efavdb.com/mean-shift/)\n",
    "\n",
    "## Implementations\n",
    "\n",
    "[sklearn](http://scikit-learn.org/stable/modules/clustering.html#mean-shift)\n",
    "\n",
    "## Videos\n",
    "\n",
    "[Sentdex](https://www.youtube.com/watch?v=TO8I-nggpzs)\n",
    "[Udacity](https://www.youtube.com/watch?v=Evc53OaDTFc)\n",
    "\n",
    "## Other\n",
    "\n",
    "[Mean Shift (wiki)](https://en.wikipedia.org/wiki/Mean-shift)"
   ]
  }
 ],
 "metadata": {
  "kernelspec": {
   "display_name": "Python 3",
   "language": "python",
   "name": "python3"
  },
  "language_info": {
   "codemirror_mode": {
    "name": "ipython",
    "version": 3
   },
   "file_extension": ".py",
   "mimetype": "text/x-python",
   "name": "python",
   "nbconvert_exporter": "python",
   "pygments_lexer": "ipython3",
   "version": "3.6.4"
  }
 },
 "nbformat": 4,
 "nbformat_minor": 2
}

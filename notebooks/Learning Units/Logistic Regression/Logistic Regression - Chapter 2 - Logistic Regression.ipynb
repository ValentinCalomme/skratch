{
 "cells": [
  {
   "cell_type": "markdown",
   "metadata": {},
   "source": [
    "# Logistic Regression\n",
    "\n",
    "Building a Logistic Regression model from scratch is very easy as it shares almost all of its logic with the Linear Regression model that we implemented in the previous Learning Unit. The salient difference lies in the predict function."
   ]
  },
  {
   "cell_type": "code",
   "execution_count": 5,
   "metadata": {},
   "outputs": [],
   "source": [
    "import sys ; sys.path.append(\"D:/source/skratch/source\")\n",
    "\n",
    "import numpy as np\n",
    " \n",
    "from supervised.linear_regression import LinearRegression\n",
    "from utils.preprocessing import add_dummy_feature\n",
    "from utils.activation import Sigmoid\n",
    " \n",
    " \n",
    "class LogisticRegression(LinearRegression):\n",
    " \n",
    "    def predict(self, X, weights=None):\n",
    " \n",
    "        if self.fit_intercept is True:\n",
    "            X = add_dummy_feature(X)\n",
    " \n",
    "        if weights is None:\n",
    "            weights = self.coef_\n",
    " \n",
    "        sigmoid = Sigmoid()\n",
    " \n",
    "        return sigmoid(X.dot(weights))"
   ]
  },
  {
   "cell_type": "markdown",
   "metadata": {},
   "source": [
    "Now, the model will always output a class probability between 0 and 1. This means that in order to predict the actual class, all that is needed is to round this output."
   ]
  },
  {
   "cell_type": "code",
   "execution_count": 6,
   "metadata": {},
   "outputs": [],
   "source": [
    "    def predict_classes(self, X, weights=None):\n",
    "\n",
    "        return self.predict(X, weights) &gt; 0.5"
   ]
  },
  {
   "cell_type": "markdown",
   "metadata": {},
   "source": [
    "![](https://skratch.valentincalomme.com/wp-content/uploads/2018/09/logistic_regression-2.gif)"
   ]
  }
 ],
 "metadata": {
  "kernelspec": {
   "display_name": "Python 3",
   "language": "python",
   "name": "python3"
  },
  "language_info": {
   "codemirror_mode": {
    "name": "ipython",
    "version": 3
   },
   "file_extension": ".py",
   "mimetype": "text/x-python",
   "name": "python",
   "nbconvert_exporter": "python",
   "pygments_lexer": "ipython3",
   "version": "3.6.4"
  }
 },
 "nbformat": 4,
 "nbformat_minor": 2
}

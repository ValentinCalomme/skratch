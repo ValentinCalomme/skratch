{
 "cells": [
  {
   "cell_type": "markdown",
   "metadata": {},
   "source": [
    "# Introduction\n",
    "\n",
    "Logistic Regression is a variation of the Linear Regression model which can be used for classification. One could first think, why don’t we just use Linear Regression as is? Indeed, this could potentially work. The target variable would be either 1 or 0 depending on the class, and the model would predict whichever class its prediction is closer to.\n",
    "\n",
    "Visually, the fitted curve would serve as a decision boundary. But a quick example already shows that this isn’t a viable option.\n",
    "\n",
    "![](https://skratch.valentincalomme.com/wp-content/uploads/2018/09/linear_regression_classification-1.png)"
   ]
  },
  {
   "cell_type": "markdown",
   "metadata": {},
   "source": [
    "Indeed, when points are added to the dataset, even though these points should be “obvious”, they skew the decision boundary, which causes classification mistakes. So there must be a better way. Logistic Regression is the solution to this problem.\n",
    "\n",
    "Ideally, we want our model to be more certain of its classification for points that are further away from the decision boundary. This is why Logistic Regression uses the sigmoid function, also called logit function, to model its hypothesis. The sigmoid function is defined as follows:"
   ]
  },
  {
   "cell_type": "code",
   "execution_count": 1,
   "metadata": {},
   "outputs": [],
   "source": [
    "class Sigmoid():\n",
    " \n",
    "    def __call__(self, x):\n",
    " \n",
    "        return 1 / (1 + np.exp(-x))\n",
    " \n",
    "    def gradient(self, x):\n",
    " \n",
    "        p = self.__class__(x)\n",
    " \n",
    "        return p * (1 - p)"
   ]
  },
  {
   "cell_type": "markdown",
   "metadata": {},
   "source": [
    "![](https://skratch.valentincalomme.com/wp-content/uploads/2018/09/sigmoid.png)"
   ]
  },
  {
   "cell_type": "markdown",
   "metadata": {},
   "source": [
    "The Sigmoid function takes any real input and maps it between 0 and 1, making it suitable to also represent probabilities. Like Linear Regression, Logistic Regression assumes that the target variable of a data point can be explained as a linear combination of its features. The only difference is that this linear combination is then passed into the Sigmoid function. The goal then is to learn weights such that the final output equals 1 or 0 based on which class the data point belongs to."
   ]
  }
 ],
 "metadata": {
  "kernelspec": {
   "display_name": "Python 3",
   "language": "python",
   "name": "python3"
  },
  "language_info": {
   "codemirror_mode": {
    "name": "ipython",
    "version": 3
   },
   "file_extension": ".py",
   "mimetype": "text/x-python",
   "name": "python",
   "nbconvert_exporter": "python",
   "pygments_lexer": "ipython3",
   "version": "3.6.4"
  }
 },
 "nbformat": 4,
 "nbformat_minor": 2
}

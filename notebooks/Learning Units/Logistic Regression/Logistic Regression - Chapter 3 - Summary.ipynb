{
 "cells": [
  {
   "cell_type": "markdown",
   "metadata": {},
   "source": [
    "# Summary\n",
    "\n",
    "## Pros\n",
    "\n",
    "Can fit high-dimensional functions\n",
    "Can be solved online\n",
    "Learning can be tweaked through the loss function\n",
    "Class probabilities can be inferred\n",
    "\n",
    "## Cons\n",
    "\n",
    "Can tend to overfit\n",
    "Many hyperparameters to tune\n",
    "Class probabilities are not always good estimates\n",
    "Sensitive to noise\n",
    "\n",
    "![](https://skratch.valentincalomme.com/wp-content/uploads/2018/09/logistic_regression2.gif)"
   ]
  },
  {
   "cell_type": "code",
   "execution_count": null,
   "metadata": {},
   "outputs": [],
   "source": []
  }
 ],
 "metadata": {
  "kernelspec": {
   "display_name": "Python 3",
   "language": "python",
   "name": "python3"
  },
  "language_info": {
   "codemirror_mode": {
    "name": "ipython",
    "version": 3
   },
   "file_extension": ".py",
   "mimetype": "text/x-python",
   "name": "python",
   "nbconvert_exporter": "python",
   "pygments_lexer": "ipython3",
   "version": "3.6.4"
  }
 },
 "nbformat": 4,
 "nbformat_minor": 2
}

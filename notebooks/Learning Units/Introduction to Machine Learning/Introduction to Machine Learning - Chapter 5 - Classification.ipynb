{
 "cells": [
  {
   "cell_type": "markdown",
   "metadata": {},
   "source": [
    "# Classification\n",
    "\n",
    "Classification is a supervised task where a model maps input to a discrete output, often referred to as the class. Classification is a specific case of regression. More formally, a classification problem can be defined as learning a function $f$ that will map input variables $X = x_0, x_1,\\dots, x_{m-1}, x_{m}$ to a discrete target variable $y$ such that $f(x) = y$.\n",
    "\n",
    "So for instance, let’s say that we have the following data:"
   ]
  },
  {
   "cell_type": "markdown",
   "metadata": {},
   "source": [
    "<table>\n",
    "<tbody>\n",
    "<tr>\n",
    "<th>Variable 1</th>\n",
    "<th>Variable 2</th>\n",
    "<th>Variable 3</th>\n",
    "<th>Variable 4</th>\n",
    "<th>Target Variable</th>\n",
    "</tr>\n",
    "<tr>\n",
    "<td>1</td>\n",
    "<td>2</td>\n",
    "<td>3</td>\n",
    "<td>4</td>\n",
    "<td>Yes</td>\n",
    "</tr>\n",
    "<tr>\n",
    "<td>2</td>\n",
    "<td>3</td>\n",
    "<td>4</td>\n",
    "<td>5</td>\n",
    "<td>No</td>\n",
    "</tr>\n",
    "<tr>\n",
    "<td>3</td>\n",
    "<td>4</td>\n",
    "<td>5</td>\n",
    "<td>6</td>\n",
    "<td>Yes</td>\n",
    "</tr>\n",
    "<tr>\n",
    "<td>&#8230;</td>\n",
    "<td>&#8230;</td>\n",
    "<td>&#8230;</td>\n",
    "<td>&#8230;</td>\n",
    "<td></td>\n",
    "</tr>\n",
    "<tr>\n",
    "<td>2000</td>\n",
    "<td>2001</td>\n",
    "<td>2002</td>\n",
    "<td>2003</td>\n",
    "<td>No</td>\n",
    "</tr>\n",
    "</tbody>\n",
    "</table>"
   ]
  },
  {
   "cell_type": "markdown",
   "metadata": {},
   "source": [
    "We would want to learn some function such that $f(1,2,3,4) = \\text{Yes}$ and $f(2,3,4,5) = \\text{No}$ and so on.\n",
    "\n",
    "Classification is often seen as finding decision boundaries in data. Finding a boundary which separates the multiple classes."
   ]
  },
  {
   "cell_type": "markdown",
   "metadata": {},
   "source": [
    "![](https://skratch.valentincalomme.com/wp-content/uploads/2018/08/classification-1.png)"
   ]
  },
  {
   "cell_type": "markdown",
   "metadata": {},
   "source": [
    "Classification can be used for a large array of tasks. Below, we list a few practical examples where it could come in handy."
   ]
  },
  {
   "cell_type": "markdown",
   "metadata": {},
   "source": [
    "## Detecting spam e-mails\n",
    "\n",
    "Input variables: Number of times certain words appear in the e-mail\n",
    "Target variable: Whether an e-mail is a spam"
   ]
  },
  {
   "cell_type": "markdown",
   "metadata": {},
   "source": [
    "<table>\n",
    "<tbody>\n",
    "<tr>\n",
    "<th>Spam</th>\n",
    "<th>Mom</th>\n",
    "<th>Loan</th>\n",
    "<th>Hello</th>\n",
    "<th>Spam</th>\n",
    "</tr>\n",
    "<tr>\n",
    "<td>4</td>\n",
    "<td>0</td>\n",
    "<td>3</td>\n",
    "<td>0</td>\n",
    "<td>Yes</td>\n",
    "</tr>\n",
    "<tr>\n",
    "<td>0</td>\n",
    "<td>1</td>\n",
    "<td>0</td>\n",
    "<td>1</td>\n",
    "<td>No</td>\n",
    "</tr>\n",
    "<tr>\n",
    "<td>0</td>\n",
    "<td>3</td>\n",
    "<td>1</td>\n",
    "<td>2</td>\n",
    "<td>No</td>\n",
    "</tr>\n",
    "<tr>\n",
    "<td>&#8230;</td>\n",
    "<td>&#8230;</td>\n",
    "<td>&#8230;</td>\n",
    "<td>&#8230;</td>\n",
    "<td></td>\n",
    "</tr>\n",
    "<tr>\n",
    "<td>5</td>\n",
    "<td>0</td>\n",
    "<td>0</td>\n",
    "<td>1</td>\n",
    "<td>Yes</td>\n",
    "</tr>\n",
    "</tbody>\n",
    "</table>"
   ]
  },
  {
   "cell_type": "markdown",
   "metadata": {},
   "source": [
    "This could be useful to create a spam filter."
   ]
  },
  {
   "cell_type": "markdown",
   "metadata": {},
   "source": [
    "## Facial recognition\n",
    "\n",
    "Input variables: Intensity of pixels in a 100x100 photo\n",
    "Target variable: Person’s name"
   ]
  },
  {
   "cell_type": "markdown",
   "metadata": {},
   "source": [
    "<table style=\"height: 176px;\" width=\"293\">\n",
    "<tbody>\n",
    "<tr>\n",
    "<th>(0,0)</th>\n",
    "<th>(0,1)</th>\n",
    "<th>&#8230;</th>\n",
    "<th>(99,98)</th>\n",
    "<th>(99,99)</th>\n",
    "<th>Person</th>\n",
    "</tr>\n",
    "<tr>\n",
    "<td>0.81</td>\n",
    "<td>0.72</td>\n",
    "<td>&#8230;</td>\n",
    "<td>0.41</td>\n",
    "<td>0.55</td>\n",
    "<td>Valentin</td>\n",
    "</tr>\n",
    "<tr>\n",
    "<td>0.23</td>\n",
    "<td>0.12</td>\n",
    "<td>&#8230;</td>\n",
    "<td>0.07</td>\n",
    "<td>0.92</td>\n",
    "<td>Jack</td>\n",
    "</tr>\n",
    "<tr>\n",
    "<td>0.54</td>\n",
    "<td>0.48</td>\n",
    "<td>&#8230;</td>\n",
    "<td>0</td>\n",
    "<td>0.31</td>\n",
    "<td>Robin</td>\n",
    "</tr>\n",
    "<tr>\n",
    "<td>&#8230;</td>\n",
    "<td>&#8230;</td>\n",
    "<td>&#8230;</td>\n",
    "<td>&#8230;</td>\n",
    "<td>&#8230;</td>\n",
    "<td>&#8230;</td>\n",
    "</tr>\n",
    "<tr>\n",
    "<td>0.71</td>\n",
    "<td>0.79</td>\n",
    "<td>&#8230;</td>\n",
    "<td>0.37</td>\n",
    "<td>0.81</td>\n",
    "<td>Lisa</td>\n",
    "</tr>\n",
    "</tbody>\n",
    "</table>"
   ]
  },
  {
   "cell_type": "markdown",
   "metadata": {},
   "source": [
    "## Predict whether a team will win a basketball game\n",
    "\n",
    "Input variables: Win percentage, win percentage of the opponent, rebound per game, rebound per game by the opponent\n",
    "Target variable: Likelihood of defaulting"
   ]
  },
  {
   "cell_type": "markdown",
   "metadata": {},
   "source": [
    "<table>\n",
    "<tbody>\n",
    "<tr>\n",
    "<th>Win %</th>\n",
    "<th>Opponent Win %</th>\n",
    "<th>RPG</th>\n",
    "<th>Opponent RPG</th>\n",
    "<th>Will win the game</th>\n",
    "</tr>\n",
    "<tr>\n",
    "<td>0.65</td>\n",
    "<td>0.33</td>\n",
    "<td>45.8</td>\n",
    "<td>42.2</td>\n",
    "<td>Yes</td>\n",
    "</tr>\n",
    "<tr>\n",
    "<td>0.54</td>\n",
    "<td>0.47</td>\n",
    "<td>37.6</td>\n",
    "<td>44.3</td>\n",
    "<td>No</td>\n",
    "</tr>\n",
    "<tr>\n",
    "<td>0.28</td>\n",
    "<td>0.77</td>\n",
    "<td>38.1</td>\n",
    "<td>48.7</td>\n",
    "<td>No</td>\n",
    "</tr>\n",
    "<tr>\n",
    "<td>&#8230;</td>\n",
    "<td>&#8230;</td>\n",
    "<td>&#8230;</td>\n",
    "<td>&#8230;</td>\n",
    "<td></td>\n",
    "</tr>\n",
    "<tr>\n",
    "<td>0.38</td>\n",
    "<td>0.43</td>\n",
    "<td>37.8</td>\n",
    "<td>36.9</td>\n",
    "<td>Yes</td>\n",
    "</tr>\n",
    "</tbody>\n",
    "</table>"
   ]
  },
  {
   "cell_type": "markdown",
   "metadata": {},
   "source": [
    "This could be used by a team to know when they could rest their star players."
   ]
  }
 ],
 "metadata": {
  "kernelspec": {
   "display_name": "Python 3",
   "language": "python",
   "name": "python3"
  },
  "language_info": {
   "codemirror_mode": {
    "name": "ipython",
    "version": 3
   },
   "file_extension": ".py",
   "mimetype": "text/x-python",
   "name": "python",
   "nbconvert_exporter": "python",
   "pygments_lexer": "ipython3",
   "version": "3.6.4"
  }
 },
 "nbformat": 4,
 "nbformat_minor": 2
}

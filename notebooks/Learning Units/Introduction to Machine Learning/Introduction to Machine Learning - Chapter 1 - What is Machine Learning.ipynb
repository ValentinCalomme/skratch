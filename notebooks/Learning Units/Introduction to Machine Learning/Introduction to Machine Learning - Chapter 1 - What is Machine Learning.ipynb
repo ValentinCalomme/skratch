{
 "cells": [
  {
   "cell_type": "markdown",
   "metadata": {},
   "source": [
    "# What is Machine Learning?\n",
    "\n",
    "The term “Machine Learning” is often considered to have been coined by Arthur Samuel in 1959. Samuel was a pioneer in the field of artificial intelligence and is famous for having written a checkers-playing program, one of the first self-learning programs in the world. He came up with the following definition for Machine Learning:\n",
    "\n",
    "**“Machine Learning is a field of computer science that gives computers the ability to learn without being explicitly programmed.”** \n",
    "\n",
    "The most important part of the definition is what he calls “being explicitly programmed”. Indeed, one could say that machine learning is _implicit programming_ whereas traditional computer science is _explicit programming_. Let’s say that we would like to build a spam detection system for an e-mail client. The goal of such a system would be to correctly identify spam whilst never filtering out e-mails that are not spam.\n",
    "\n",
    "Let’s assume that our input is an e-mail object containing information about the content of the e-mail, the sender, the time it was sent etc."
   ]
  },
  {
   "cell_type": "code",
   "execution_count": 15,
   "metadata": {},
   "outputs": [],
   "source": [
    "class Email:\n",
    "    def __init__(self, content, sender, **kwargs):\n",
    "        self.content = content\n",
    "        self.sender = sender\n",
    "\n",
    "        \n",
    "spams = [Email(content=\"Hey, this is spam, give me your money\", sender=\"scammer@aol.com\"),\n",
    "         Email(content=\"Hey, give me your money please!\", sender=\"spammer@aol.com\")]\n",
    " \n",
    "hams = [Email(content=\"Hey, this is mom\", sender=\"mum@aol.com\"),\n",
    "        Email(content=\"Hey, give me your address please!\", sender=\"dad@aol.com\")]"
   ]
  },
  {
   "cell_type": "markdown",
   "metadata": {},
   "source": [
    "We would like to build some function that tells us whether such an e-mail is indeed spam."
   ]
  },
  {
   "cell_type": "markdown",
   "metadata": {},
   "source": [
    "## Explicit programming - The traditional computer science approach\n",
    "\n",
    "To explicitly program a computer to detect spam e-mails, we would write code that would detail each decision the computer would have to make when being fed an e-mail as input. This could include analyzing the sender, whether the e-mail contains certain words, and so on.\n",
    "\n",
    "A simplistic explicit program could, for instance, check whether the string “this is a spam” is present in the e-mail."
   ]
  },
  {
   "cell_type": "code",
   "execution_count": 16,
   "metadata": {},
   "outputs": [],
   "source": [
    "class SpamFilter:\n",
    " \n",
    "    def isSpam(self, email):\n",
    "        return \"this is a spam\" in email.content"
   ]
  },
  {
   "cell_type": "markdown",
   "metadata": {},
   "source": [
    "But perhaps, spammers become smarter and stop using these phrases. Therefore, we could also create a list of blocked senders and check whether the e-mail was sent by one of them."
   ]
  },
  {
   "cell_type": "code",
   "execution_count": 17,
   "metadata": {},
   "outputs": [],
   "source": [
    "class SpamFilter:\n",
    " \n",
    "    def isSpam(self, email):\n",
    "        blocked_senders = [\"scammer@aol.com\", \"spammer@aol.com\"]\n",
    "        return \"this is a spam\" in email.content or email.sender in blocked_senders"
   ]
  },
  {
   "cell_type": "markdown",
   "metadata": {},
   "source": [
    "And so on. We could come up with as many rules as we'd like, and end up with a rather elaborate and complex program."
   ]
  },
  {
   "cell_type": "markdown",
   "metadata": {},
   "source": [
    "## Implicitly programmed - The machine learning approach\n",
    "\n",
    "Implicitly programming a computer to detect spam e-mails is not completely different from explicitly programming it. We would also need to write a program that is able to filter spams given a set of rules. The real difference comes with how the rules are created. In the previous example, we had to explicitly write out what the rules were. We had to create the list of blocked senders and define that “this is a spam” is a string that is indicative of spam e-mails. In machine learning, we let the program learn these rules on its own.\n",
    "\n",
    "So how does that look like? Our `isSpam` function would look very similar to before."
   ]
  },
  {
   "cell_type": "code",
   "execution_count": 18,
   "metadata": {},
   "outputs": [],
   "source": [
    "class SpamFilter:\n",
    " \n",
    "    def isSpam(self, email):\n",
    "         \n",
    "        blacklisted_word_found = any([word in email.content for word in self.blacklisted_words])\n",
    "        sent_by_blocked_sender = email.sender in self.blocked_senders\n",
    "         \n",
    "        return blacklisted_word_found or sent_by_blocked_sender"
   ]
  },
  {
   "cell_type": "markdown",
   "metadata": {},
   "source": [
    "As you may have seen, we did not define `blacklisted_words` or `blocked_senders` inside the `isSpam` function. Instead, we will learn what should be inside these variables in a function that we'll call `fit`.\n",
    "\n",
    "We will do that by given it e-mails that we already categorized as spam or ham. We will define `blocked_senders` as the set of all senders who ever sent a spam e-mail, and `blacklisted_words` as the set of words that appeared in a spam e-mail and not in a ham e-mail."
   ]
  },
  {
   "cell_type": "code",
   "execution_count": 19,
   "metadata": {},
   "outputs": [],
   "source": [
    "class SpamFilter:\n",
    " \n",
    "    def isSpam(self, email):\n",
    "         \n",
    "        blacklisted_word_found = any([word in email.content for word in self.blacklisted_words])\n",
    "        sent_by_blocked_sender = email.sender in self.blocked_senders\n",
    "         \n",
    "        return blacklisted_word_found or sent_by_blocked_sender\n",
    "     \n",
    "    def fit(self, spams, hams):\n",
    "         \n",
    "        self.blocked_senders = set()\n",
    "        words_found_in_spams = set()\n",
    "        words_found_in_hams = set()\n",
    "         \n",
    "        for email in hams:\n",
    "            for word in email.content.split():\n",
    "                words_found_in_hams.add(word)\n",
    "             \n",
    "        for email in spams:\n",
    "             \n",
    "            self.blocked_senders.add(email.sender)\n",
    "             \n",
    "            for word in email.content.split():\n",
    "                words_found_in_spams.add(word)\n",
    "                      \n",
    "        self.blacklisted_words = words_found_in_spams.difference(words_found_in_hams)\n",
    " \n",
    "        return self"
   ]
  },
  {
   "cell_type": "markdown",
   "metadata": {},
   "source": [
    "This piece of code achieves exactly the same thing as the explicit example if given the e-mails that we defined above. It will learn that spam and money are two words that should be blacklisted and that scammer@aol.com and spammer@aol.com should be blocked. But it does have the advantage that the code doesn’t have to be modified whenever a rule has to be changed."
   ]
  }
 ],
 "metadata": {
  "kernelspec": {
   "display_name": "Python 3",
   "language": "python",
   "name": "python3"
  },
  "language_info": {
   "codemirror_mode": {
    "name": "ipython",
    "version": 3
   },
   "file_extension": ".py",
   "mimetype": "text/x-python",
   "name": "python",
   "nbconvert_exporter": "python",
   "pygments_lexer": "ipython3",
   "version": "3.6.4"
  }
 },
 "nbformat": 4,
 "nbformat_minor": 2
}

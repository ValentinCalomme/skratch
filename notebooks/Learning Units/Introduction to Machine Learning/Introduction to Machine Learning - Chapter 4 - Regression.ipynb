{
 "cells": [
  {
   "cell_type": "markdown",
   "metadata": {},
   "source": [
    "# Regression\n",
    "\n",
    "Regression is one of the most common machine learning task. It is a supervised task where a model maps input to a continuous output. More formally, a regression problem can be defined as learning a function $f$ that will map input variables $X=x_0,x_1,\\dots,x_{m−1},x_{m}$ to a continuous target variable y such that $f(x)=y$. So for instance, let’s say that we have the following data:"
   ]
  },
  {
   "cell_type": "markdown",
   "metadata": {},
   "source": [
    "<table>\n",
    "<tbody>\n",
    "<tr>\n",
    "<th>Variable 1</th>\n",
    "<th>Variable 2</th>\n",
    "<th>Variable 3</th>\n",
    "<th>Variable 4</th>\n",
    "<th>Target Variable</th>\n",
    "</tr>\n",
    "<tr>\n",
    "<td>1</td>\n",
    "<td>2</td>\n",
    "<td>3</td>\n",
    "<td>4</td>\n",
    "<td>10</td>\n",
    "</tr>\n",
    "<tr>\n",
    "<td>2</td>\n",
    "<td>3</td>\n",
    "<td>4</td>\n",
    "<td>5</td>\n",
    "<td>14</td>\n",
    "</tr>\n",
    "<tr>\n",
    "<td>3</td>\n",
    "<td>4</td>\n",
    "<td>5</td>\n",
    "<td>6</td>\n",
    "<td>18</td>\n",
    "</tr>\n",
    "<tr>\n",
    "<td>&#8230;</td>\n",
    "<td>&#8230;</td>\n",
    "<td>&#8230;</td>\n",
    "<td>&#8230;</td>\n",
    "<td></td>\n",
    "</tr>\n",
    "<tr>\n",
    "<td>2000</td>\n",
    "<td>2001</td>\n",
    "<td>2002</td>\n",
    "<td>2003</td>\n",
    "<td>8006</td>\n",
    "</tr>\n",
    "</tbody>\n",
    "</table>"
   ]
  },
  {
   "cell_type": "markdown",
   "metadata": {},
   "source": [
    "We would want to learn some function such that $f(1,2,3,4)=10$ and $f(2,3,4,5)=14$ and so on.\n",
    "\n",
    "Regression is often compared to curve fitting since it is trying to fit some function $f$ that will follow a similar curve as the data.\n",
    "\n",
    "![](https://skratch.valentincalomme.com/wp-content/uploads/2018/08/regression-1.png)"
   ]
  },
  {
   "cell_type": "markdown",
   "metadata": {},
   "source": [
    "Regression can be used for a large array of tasks. Below, we list a few practical examples where regression could come in handy.\n",
    "\n",
    "## Predicting house prices\n",
    "\n",
    "Input variables: Number of bedrooms, whether it has a garage, living surface, the age of the house\n",
    "Target variable: Price of the house"
   ]
  },
  {
   "cell_type": "markdown",
   "metadata": {},
   "source": [
    "<table>\n",
    "<tbody>\n",
    "<tr>\n",
    "<th>Bedrooms</th>\n",
    "<th>Garage</th>\n",
    "<th>Living surface</th>\n",
    "<th>Age</th>\n",
    "<th>Price ($)</th>\n",
    "</tr>\n",
    "<tr>\n",
    "<td>3</td>\n",
    "<td>0</td>\n",
    "<td>3000</td>\n",
    "<td>1</td>\n",
    "<td>245000</td>\n",
    "</tr>\n",
    "<tr>\n",
    "<td>2</td>\n",
    "<td>1</td>\n",
    "<td>2650</td>\n",
    "<td>14</td>\n",
    "<td>312040</td>\n",
    "</tr>\n",
    "<tr>\n",
    "<td>4</td>\n",
    "<td>0</td>\n",
    "<td>4000</td>\n",
    "<td>60</td>\n",
    "<td>180000</td>\n",
    "</tr>\n",
    "<tr>\n",
    "<td>&#8230;</td>\n",
    "<td>&#8230;</td>\n",
    "<td>&#8230;</td>\n",
    "<td>&#8230;</td>\n",
    "<td></td>\n",
    "</tr>\n",
    "<tr>\n",
    "<td>5</td>\n",
    "<td>1</td>\n",
    "<td>5432</td>\n",
    "<td>4</td>\n",
    "<td>800670</td>\n",
    "</tr>\n",
    "</tbody>\n",
    "</table>"
   ]
  },
  {
   "cell_type": "markdown",
   "metadata": {},
   "source": [
    "This could be useful to make an estimate on a house, either if you’re selling or buying one."
   ]
  },
  {
   "cell_type": "markdown",
   "metadata": {},
   "source": [
    "## Predicting students' grades\n",
    "\n",
    "Input variables: Grade on last test, GPA\n",
    "Target variable: Grade on final exam"
   ]
  },
  {
   "cell_type": "markdown",
   "metadata": {},
   "source": [
    "<table>\n",
    "<tbody>\n",
    "<tr>\n",
    "<th>Last test</th>\n",
    "<th>GPA</th>\n",
    "<th>Final Exam</th>\n",
    "</tr>\n",
    "<tr>\n",
    "<td>3</td>\n",
    "<td>5.5</td>\n",
    "<td>5</td>\n",
    "</tr>\n",
    "<tr>\n",
    "<td>10</td>\n",
    "<td>7</td>\n",
    "<td>6</td>\n",
    "</tr>\n",
    "<tr>\n",
    "<td>7</td>\n",
    "<td>8</td>\n",
    "<td>7.5</td>\n",
    "</tr>\n",
    "<tr>\n",
    "<td>&#8230;</td>\n",
    "<td>&#8230;</td>\n",
    "<td>&#8230;</td>\n",
    "</tr>\n",
    "<tr>\n",
    "<td>8</td>\n",
    "<td>9.2</td>\n",
    "<td>10</td>\n",
    "</tr>\n",
    "</tbody>\n",
    "</table>"
   ]
  },
  {
   "cell_type": "markdown",
   "metadata": {},
   "source": [
    "A teacher could use this to identify which students might require additional attention."
   ]
  },
  {
   "cell_type": "markdown",
   "metadata": {},
   "source": [
    "## Predict how likely it is for a customer to default on a loan\n",
    "\n",
    "Input variables: Income, age, children, married\n",
    "Target variable: Likelihood of defaulting"
   ]
  },
  {
   "cell_type": "markdown",
   "metadata": {},
   "source": [
    "<table>\n",
    "<tbody>\n",
    "<tr>\n",
    "<th>Income</th>\n",
    "<th>Age</th>\n",
    "<th>Children</th>\n",
    "<th>Married</th>\n",
    "<th>Likelihood of defaulting</th>\n",
    "</tr>\n",
    "<tr>\n",
    "<td>2500</td>\n",
    "<td>33</td>\n",
    "<td>1</td>\n",
    "<td>1</td>\n",
    "<td>0</td>\n",
    "</tr>\n",
    "<tr>\n",
    "<td>1200</td>\n",
    "<td>42</td>\n",
    "<td>3</td>\n",
    "<td>1</td>\n",
    "<td>1</td>\n",
    "</tr>\n",
    "<tr>\n",
    "<td>0</td>\n",
    "<td>18</td>\n",
    "<td>2</td>\n",
    "<td>0</td>\n",
    "<td>1</td>\n",
    "</tr>\n",
    "<tr>\n",
    "<td>&#8230;</td>\n",
    "<td>&#8230;</td>\n",
    "<td>&#8230;</td>\n",
    "<td>&#8230;</td>\n",
    "<td></td>\n",
    "</tr>\n",
    "<tr>\n",
    "<td>9000</td>\n",
    "<td>28</td>\n",
    "<td>0</td>\n",
    "<td>0</td>\n",
    "<td>0</td>\n",
    "</tr>\n",
    "</tbody>\n",
    "</table>"
   ]
  },
  {
   "cell_type": "markdown",
   "metadata": {},
   "source": [
    "A bank could use this to decide whether or not to grant a loan."
   ]
  }
 ],
 "metadata": {
  "kernelspec": {
   "display_name": "Python 3",
   "language": "python",
   "name": "python3"
  },
  "language_info": {
   "codemirror_mode": {
    "name": "ipython",
    "version": 3
   },
   "file_extension": ".py",
   "mimetype": "text/x-python",
   "name": "python",
   "nbconvert_exporter": "python",
   "pygments_lexer": "ipython3",
   "version": "3.6.4"
  }
 },
 "nbformat": 4,
 "nbformat_minor": 2
}

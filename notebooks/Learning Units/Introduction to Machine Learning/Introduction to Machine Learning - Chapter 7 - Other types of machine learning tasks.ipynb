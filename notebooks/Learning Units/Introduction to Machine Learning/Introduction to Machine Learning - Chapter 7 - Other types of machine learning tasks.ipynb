{
 "cells": [
  {
   "cell_type": "markdown",
   "metadata": {},
   "source": [
    "## Anomaly Detection\n",
    "\n",
    "Anomaly detection is a specific type of clustering where one is trying to detect whether a data point is noise or not. This is used to check whether a credit card transaction is fraudulent, or for instance, if a machine needs repair.\n",
    "\n",
    "Though it could be supervised, the main concept behind anomaly detection is that anomalies are rare or have yet to occur.\n",
    "\n",
    "## Dimensionality Reduction\n",
    "\n",
    "Dimensionality reduction is a task that transforms data into a lower dimension. It could, for instance, transform images into a compressed format, or help visualize, otherwise high-dimensional, datasets.\n",
    "\n",
    "\n",
    "## Association-Rule Learning\n",
    "\n",
    "Association-rule learning tries to find relationships between events. For instance, it tries to infer that customers who buy product A, also buy product B, or that people who visit website A and website B, will also visit website C.\n",
    "\n",
    "## Reinforcement Learning\n",
    "\n",
    "Reinforcement learning is the task of learning appropriate behaviour within an environment. For instance, how to get out of a maze, or how to navigate a car through traffic. It is often referred to as “learning with a critic” because often, the optimal behaviour is not known, and therefore cannot be taught. Instead, we are able to tell how good or how bad a decision was. Learning then becomes trying to receive as much positive feedback, and as little negative feedback, as possible"
   ]
  }
 ],
 "metadata": {
  "kernelspec": {
   "display_name": "Python 3",
   "language": "python",
   "name": "python3"
  },
  "language_info": {
   "codemirror_mode": {
    "name": "ipython",
    "version": 3
   },
   "file_extension": ".py",
   "mimetype": "text/x-python",
   "name": "python",
   "nbconvert_exporter": "python",
   "pygments_lexer": "ipython3",
   "version": "3.6.4"
  }
 },
 "nbformat": 4,
 "nbformat_minor": 2
}

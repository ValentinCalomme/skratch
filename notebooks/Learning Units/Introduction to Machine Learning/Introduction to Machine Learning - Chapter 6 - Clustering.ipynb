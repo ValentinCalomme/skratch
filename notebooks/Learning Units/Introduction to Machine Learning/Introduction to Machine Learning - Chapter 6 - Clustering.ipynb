{
 "cells": [
  {
   "cell_type": "markdown",
   "metadata": {},
   "source": [
    "# Clustering\n",
    "\n",
    "Clustering is an unsupervised task where a model is trying to group instances into separate clusters. It can be seen as an unsupervised classification task. It is unsupervised because, in regular classification, we have a gold standard that we can learn from. With clustering, we don’t know in which cluster instances should be, let alone how many clusters there are. The goal of the model is to infer some form of structure on the data given the data alone.\n",
    "\n",
    "More formally, a clustering problem can be defined as learning a function $f$ that will map input variables $X = x_0, x_1,\\dots, x_{m-1}, x_{m}$ to a cluster label $y$ such that $f(x) = y$."
   ]
  },
  {
   "cell_type": "markdown",
   "metadata": {},
   "source": [
    "![](https://skratch.valentincalomme.com/wp-content/uploads/2018/08/clustering.png)"
   ]
  },
  {
   "cell_type": "markdown",
   "metadata": {},
   "source": [
    "Clustering can be used for a large array of tasks. Below, we list a few practical examples where it could come in handy.\n",
    "\n",
    "## Customer segmentation\n",
    "\n",
    "Input variables: Age, number of visits last year, the average amount purchased"
   ]
  },
  {
   "cell_type": "markdown",
   "metadata": {},
   "source": [
    "<table style=\"height: 175px;\" width=\"284\">\n",
    "<tbody>\n",
    "<tr>\n",
    "<th>Age</th>\n",
    "<th>Visits</th>\n",
    "<th>Average amount purchased</th>\n",
    "</tr>\n",
    "<tr>\n",
    "<td>40</td>\n",
    "<td>100</td>\n",
    "<td>86.3</td>\n",
    "</tr>\n",
    "<tr>\n",
    "<td>20</td>\n",
    "<td>47</td>\n",
    "<td>32.5</td>\n",
    "</tr>\n",
    "<tr>\n",
    "<td>82</td>\n",
    "<td>130</td>\n",
    "<td>54.3</td>\n",
    "</tr>\n",
    "<tr>\n",
    "<td>&#8230;</td>\n",
    "<td>&#8230;</td>\n",
    "<td>&#8230;</td>\n",
    "</tr>\n",
    "<tr>\n",
    "<td>19</td>\n",
    "<td>27</td>\n",
    "<td>15.6</td>\n",
    "</tr>\n",
    "</tbody>\n",
    "</table>"
   ]
  },
  {
   "cell_type": "markdown",
   "metadata": {},
   "source": [
    "This could be useful to understand better the various groups of customers that you are catering to. And also to perhaps create specific marketing campaigns for each group.\n",
    "\n",
    "## Topic Detection\n",
    "\n",
    "Input variables: Amount of times a word appear in a book"
   ]
  },
  {
   "cell_type": "markdown",
   "metadata": {},
   "source": [
    "<table style=\"height: 176px;\" width=\"293\">\n",
    "<tbody>\n",
    "<tr>\n",
    "<th>Wand</th>\n",
    "<th>Killer</th>\n",
    "<th>&#8230;</th>\n",
    "<th>Crime</th>\n",
    "<th>Spell</th>\n",
    "<th>Ghost</th>\n",
    "</tr>\n",
    "<tr>\n",
    "<td>63</td>\n",
    "<td>12</td>\n",
    "<td>&#8230;</td>\n",
    "<td>64</td>\n",
    "<td>146</td>\n",
    "<td>85</td>\n",
    "</tr>\n",
    "<tr>\n",
    "<td>14</td>\n",
    "<td>86</td>\n",
    "<td>&#8230;</td>\n",
    "<td>97</td>\n",
    "<td>24</td>\n",
    "<td>35</td>\n",
    "</tr>\n",
    "<tr>\n",
    "<td>98</td>\n",
    "<td>34</td>\n",
    "<td>&#8230;</td>\n",
    "<td>54</td>\n",
    "<td>189</td>\n",
    "<td>276</td>\n",
    "</tr>\n",
    "<tr>\n",
    "<td>&#8230;</td>\n",
    "<td>&#8230;</td>\n",
    "<td>&#8230;</td>\n",
    "<td>&#8230;</td>\n",
    "<td>&#8230;</td>\n",
    "<td>&#8230;</td>\n",
    "</tr>\n",
    "<tr>\n",
    "<td>324</td>\n",
    "<td>34</td>\n",
    "<td>&#8230;</td>\n",
    "<td>65</td>\n",
    "<td>123</td>\n",
    "<td>65</td>\n",
    "</tr>\n",
    "</tbody>\n",
    "</table>"
   ]
  },
  {
   "cell_type": "markdown",
   "metadata": {},
   "source": [
    "Being able to group books into certain topics could be helpful if you want to start an online bookstore and want to know what labels to use to categorize books.\n",
    "\n",
    "## Tumor Detection\n",
    "\n",
    "Input variables: Intensity of pixels in a 100x100 photo"
   ]
  },
  {
   "cell_type": "markdown",
   "metadata": {},
   "source": [
    "<table style=\"height: 176px;\" width=\"293\">\n",
    "<tbody>\n",
    "<tr>\n",
    "<th>(0,0)</th>\n",
    "<th>(0,1)</th>\n",
    "<th>&#8230;</th>\n",
    "<th>(99,97)</th>\n",
    "<th>(99,98)</th>\n",
    "<th>(0.99,0.99)</th>\n",
    "</tr>\n",
    "<tr>\n",
    "<td>0.81</td>\n",
    "<td>0.72</td>\n",
    "<td>&#8230;</td>\n",
    "<td>0.41</td>\n",
    "<td>0.55</td>\n",
    "<td>0.51</td>\n",
    "</tr>\n",
    "<tr>\n",
    "<td>0.23</td>\n",
    "<td>0.12</td>\n",
    "<td>&#8230;</td>\n",
    "<td>0.07</td>\n",
    "<td>0.92</td>\n",
    "<td>0.88</td>\n",
    "</tr>\n",
    "<tr>\n",
    "<td>0.54</td>\n",
    "<td>0.48</td>\n",
    "<td>&#8230;</td>\n",
    "<td>0</td>\n",
    "<td>0.31</td>\n",
    "<td>0.34</td>\n",
    "</tr>\n",
    "<tr>\n",
    "<td>&#8230;</td>\n",
    "<td>&#8230;</td>\n",
    "<td>&#8230;</td>\n",
    "<td>&#8230;</td>\n",
    "<td>&#8230;</td>\n",
    "<td>&#8230;</td>\n",
    "</tr>\n",
    "<tr>\n",
    "<td>0.71</td>\n",
    "<td>0.79</td>\n",
    "<td>&#8230;</td>\n",
    "<td>0.37</td>\n",
    "<td>0.81</td>\n",
    "<td>0.87</td>\n",
    "</tr>\n",
    "</tbody>\n",
    "</table>"
   ]
  },
  {
   "cell_type": "markdown",
   "metadata": {},
   "source": [
    "This could be useful to help doctors identify important parts of a scan for instance. By automatically identifying specific groups in high resolution pictures, it could assist doctors and make sure that they don’t miss any details of a medical scan."
   ]
  }
 ],
 "metadata": {
  "kernelspec": {
   "display_name": "Python 3",
   "language": "python",
   "name": "python3"
  },
  "language_info": {
   "codemirror_mode": {
    "name": "ipython",
    "version": 3
   },
   "file_extension": ".py",
   "mimetype": "text/x-python",
   "name": "python",
   "nbconvert_exporter": "python",
   "pygments_lexer": "ipython3",
   "version": "3.6.4"
  }
 },
 "nbformat": 4,
 "nbformat_minor": 2
}

{
 "cells": [
  {
   "cell_type": "markdown",
   "metadata": {},
   "source": [
    "# Evaluating Clustering"
   ]
  },
  {
   "cell_type": "markdown",
   "metadata": {},
   "source": [
    "Machine learning is all about getting better and better at a task. Therefore, we need to define what it means to be good. In the case of clustering, this is not always straightforward. There are two main types of evaluations that can be done. Namely, whether or not the desired clustering is known or not. If the desired clustering is known, a measure of closeness can be calculated, if it is not known, a measure of consistency within clusters has to be computed.\n",
    "\n",
    "## Silhouette Index\n",
    "\n",
    "The Silhouette index is a famous metric that is often used in order to know how consistent a clustering is. For each data point, the inner-cluster distance and the neighbour-cluster distance is computed. Intuitively, it calculates how well each data point fits within their own cluster, versus how well they would fit in the closest cluster it is not part of. The score can sit between -1 and 1. A score of 1 is desired. If the score is negative, it typically means that the clustering could be improved by moving certain data points to their neighbour cluster."
   ]
  },
  {
   "cell_type": "code",
   "execution_count": 4,
   "metadata": {},
   "outputs": [],
   "source": [
    "def silhouette_index(X, y, distance):\n",
    "\n",
    "    def inter_cluster_distance(sample_id):\n",
    "\n",
    "        other_sample_ids = np.array([i for i in range(len(X)) if i != sample_id])\n",
    "        cluster_ids = y[other_sample_ids]\n",
    "        cluster_id = y[sample_id]\n",
    "        x = X[sample_id]\n",
    "\n",
    "        cluster = X[other_sample_ids][cluster_ids == cluster_id]\n",
    "\n",
    "        if len(cluster) == 0:\n",
    "            return 0\n",
    "        else:\n",
    "            distances = cdist([x], cluster, distance)\n",
    "            return np.mean(distances)\n",
    "\n",
    "    def nearest_cluster_distance(sample_id):\n",
    "\n",
    "        x = X[sample_id]\n",
    "        dist = float('inf')\n",
    "\n",
    "        for other_cluster_id in set(y[y != y[sample_id]]):\n",
    "\n",
    "            cluster = X[y == other_cluster_id]\n",
    "\n",
    "            new_dist = np.mean(cdist([x], cluster, distance))\n",
    "\n",
    "            dist = new_dist if new_dist < dist else dist\n",
    "\n",
    "        return dist\n",
    "\n",
    "    s = []\n",
    "\n",
    "    for i, x in enumerate(X):\n",
    "\n",
    "        a = inter_cluster_distance(i)\n",
    "        b = nearest_cluster_distance(i)\n",
    "\n",
    "        s.append((b - a) / max(a, b))\n",
    "\n",
    "    return np.mean(s)"
   ]
  },
  {
   "cell_type": "markdown",
   "metadata": {},
   "source": [
    "## Rand Index\n",
    "\n",
    "If there exists some gold standard clustering, one can measure how close we are to it. The Rand index is a measure that achieves just that. It is related to the accuracy measure for classification. There also exists a version of the Rand Index which accounts for chance."
   ]
  },
  {
   "cell_type": "code",
   "execution_count": 5,
   "metadata": {},
   "outputs": [],
   "source": [
    "def rand_index(X, y):\n",
    " \n",
    "    a = b = c = d = 0\n",
    " \n",
    "    for i, j in combinations(range(len(X)), 2):\n",
    " \n",
    "        a += X[i] == X[j] and y[i] == y[j]\n",
    "        b += X[i] != X[j] and y[i] != y[j]\n",
    "        c += X[i] == X[j] and y[i] != y[j]\n",
    "        d += X[i] != X[j] and y[i] == y[j]\n",
    " \n",
    "    return (a + b) / (a + b + c + d)"
   ]
  },
  {
   "cell_type": "markdown",
   "metadata": {},
   "source": [
    "## Custom Metrics\n",
    "\n",
    "Evaluating is sometimes difficult to express mathematically. But if it is possible, custom metrics are possible. The metric should ultimately represent what it means for your classification to be good, whatever it may mean in your application."
   ]
  }
 ],
 "metadata": {
  "kernelspec": {
   "display_name": "Python 3",
   "language": "python",
   "name": "python3"
  },
  "language_info": {
   "codemirror_mode": {
    "name": "ipython",
    "version": 3
   },
   "file_extension": ".py",
   "mimetype": "text/x-python",
   "name": "python",
   "nbconvert_exporter": "python",
   "pygments_lexer": "ipython3",
   "version": "3.6.4"
  }
 },
 "nbformat": 4,
 "nbformat_minor": 2
}

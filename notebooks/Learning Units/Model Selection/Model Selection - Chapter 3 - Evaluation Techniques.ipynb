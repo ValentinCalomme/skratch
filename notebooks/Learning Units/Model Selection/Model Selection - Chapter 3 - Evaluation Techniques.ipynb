{
 "cells": [
  {
   "cell_type": "markdown",
   "metadata": {},
   "source": [
    "# Evaluation Techniques\n",
    "\n",
    "When we train machine learning models, we need a way to estimate how well they will perform. One way to do that is to split the data at our disposal into a train and a test set. This way, the models are trained on some data, and we can then see how well they will perform in situations they never encountered before.\n",
    "\n",
    ">An extremely important thing to understand is that splitting the data into a train and a test set is only done in order to estimate the performance of models. Once we have estimated the performance, models should always be trained with as much data as possible.\n",
    "\n",
    "## (Stratified) K-Fold Cross Validation\n",
    " \n",
    "We want to estimate how well our model trained, when trained with the entire data, will perform. Therefore, for the evaluation, we need to use a model that is as similar as possible to that model. This is why the training set is typically bigger than the testing set. On the other hand, the model must be tested on a large enough test set. If this is not possible, cross-validation can be used. K-Fold Cross-validation is a method which splits the data in K folds of identical size. Then, repeatedly, one fold is held out and used as a test set, on which performance is computed. After each fold has been evaluated, the performance is averaged.\n",
    "\n",
    "![](https://skratch.valentincalomme.com/wp-content/uploads/2018/08/cross_validation.gif)"
   ]
  },
  {
   "cell_type": "markdown",
   "metadata": {},
   "source": [
    "A Cross-Validation is stratified when it is ensured that each fold holds similar statistics as the full dataset. It has also been empirically found that using 10 folds performs well, however, any value for K can be used. When there are as many folds as the number of data points, the method is referred to as Leave-One-Out.\n",
    "\n",
    "## Data must be representative\n",
    "\n",
    "First and foremost, for our performance estimate to make any sense, we need to train our model on data that is representative of the data it will encounter later. This is the same as studying for a French exam but then having to take a German exam. It doesn’t matter how good we are at French if we are judged by how well we know German. Since we don’t know what data we will encounter in the future, we need to make assumptions. And it is crucial to keep these assumptions in mind in order to train a model well-suited for a task."
   ]
  }
 ],
 "metadata": {
  "kernelspec": {
   "display_name": "Python 3",
   "language": "python",
   "name": "python3"
  },
  "language_info": {
   "codemirror_mode": {
    "name": "ipython",
    "version": 3
   },
   "file_extension": ".py",
   "mimetype": "text/x-python",
   "name": "python",
   "nbconvert_exporter": "python",
   "pygments_lexer": "ipython3",
   "version": "3.6.4"
  }
 },
 "nbformat": 4,
 "nbformat_minor": 2
}

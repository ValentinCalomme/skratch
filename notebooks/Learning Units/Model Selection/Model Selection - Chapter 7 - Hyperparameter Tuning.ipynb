{
 "cells": [
  {
   "cell_type": "markdown",
   "metadata": {},
   "source": [
    "# Hyperparameter Tuning\n",
    "\n",
    "Training a machine learning model means that we are trying to find the best state. Many learning algorithms are parameterized. For instance, certain clustering algorithms require one to input the number of desired clusters. Hyperparameter tuning is the process of finding the best parameters for the learning algorithm itself. For clustering, it could mean finding the best number of clusters.\n",
    "\n",
    "It is almost never possible to try out all possible hyperparameters, thankfully, there exist many different strategies to tackle this.\n",
    "\n",
    "## Grid Search\n",
    "\n",
    "Grid Search is a technique that lays out possible values for the hyperparameters and tries all combinations of them. It is called Grid Search because it could be viewed as putting all combinations of hyperparameters in a grid, and filling out the grid with the performance that each combination achieves, ultimately picking the best one.\n",
    "\n",
    "## Random Search\n",
    "\n",
    "Random Search is an alternative to Grid Search. It has the advantage that it allows one to provide a range of possible values for hyperparameters. This means that one could in theory run the search for as long as desired. The randomness often works well as it reduces the bias induced by Grid Search and allows for more creative solutions.\n",
    "\n",
    "## Bayesian Optimization \n",
    "\n",
    "Bayesian Optimization is a technique that tries to learn a mapping between the hyperparameters and the performance. At each step, the estimated mapping provides insights on which parameters are likely to perform well. The parameters are then evaluated which subsequently improves the mapping. This technique is a bit more expensive as it involves learning an additional mapping but can prove to be very powerful, even when the models are noisy."
   ]
  }
 ],
 "metadata": {
  "kernelspec": {
   "display_name": "Python 3",
   "language": "python",
   "name": "python3"
  },
  "language_info": {
   "codemirror_mode": {
    "name": "ipython",
    "version": 3
   },
   "file_extension": ".py",
   "mimetype": "text/x-python",
   "name": "python",
   "nbconvert_exporter": "python",
   "pygments_lexer": "ipython3",
   "version": "3.6.4"
  }
 },
 "nbformat": 4,
 "nbformat_minor": 2
}

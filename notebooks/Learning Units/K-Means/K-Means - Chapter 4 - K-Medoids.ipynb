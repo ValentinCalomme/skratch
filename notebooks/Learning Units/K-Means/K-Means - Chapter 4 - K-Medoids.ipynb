{
 "cells": [
  {
   "cell_type": "markdown",
   "metadata": {},
   "source": [
    "# K-Medoids\n",
    "\n",
    "In order to use any distance measure and still ensure convergence, one can use K-Medoids. One can view K-Medoids as the most general version of K-Means.\n",
    "\n",
    "K-Medoids will converge regardless of the distance measure used, so in this example, we’ll use cosine distance."
   ]
  },
  {
   "cell_type": "code",
   "execution_count": 3,
   "metadata": {},
   "outputs": [],
   "source": [
    "import sys ; sys.path.append(\"D:/source/skratch/source\")\n",
    "import numpy as np\n",
    "import copy\n",
    " \n",
    "from unsupervised.kmeans import KMeans\n",
    "from utils.distances import pdist, euclidean, manhattan, cosine\n",
    " \n",
    " \n",
    "class KMedoids(KMeans):\n",
    " \n",
    "    def _distance(self, a, b):\n",
    " \n",
    "        return cosine(a, b)"
   ]
  },
  {
   "cell_type": "markdown",
   "metadata": {},
   "source": [
    "Like K-Medians, K-Medoids requires a slightly different way to define the centroids. K-Medoids defines a centroid, in this case a medoid, as the most central point in a cluster. In practice, it means that every data point could potentially be a centroid, but the one minimizing the inertia the most is picked at each step."
   ]
  },
  {
   "cell_type": "code",
   "execution_count": 4,
   "metadata": {},
   "outputs": [],
   "source": [
    "    def _compute_centroids(self, X, labels):\n",
    "\n",
    "        if not hasattr(self, \"distances\"):\n",
    "            self.distances = pdist(X, self._distance)\n",
    "\n",
    "        centroids = []\n",
    "\n",
    "        for i in range(self.k):\n",
    "\n",
    "            distances = self.distances[np.ix_(labels == i, labels == i)]\n",
    "            within_cluster_sum_of_distances = np.sum(distances, axis=0)\n",
    "\n",
    "            centroid = X[labels == i][np.argmin(within_cluster_sum_of_distances)]\n",
    "\n",
    "            centroids.append(centroid)\n",
    "\n",
    "        return np.array(centroids)"
   ]
  },
  {
   "cell_type": "markdown",
   "metadata": {},
   "source": [
    "And like K-Medians, we don’t need to define the rest of the logic, as it is the exact same being used by K-Means!\n",
    "![](https://skratch.valentincalomme.com/wp-content/uploads/2018/08/kmedoids.gif)"
   ]
  }
 ],
 "metadata": {
  "kernelspec": {
   "display_name": "Python 3",
   "language": "python",
   "name": "python3"
  },
  "language_info": {
   "codemirror_mode": {
    "name": "ipython",
    "version": 3
   },
   "file_extension": ".py",
   "mimetype": "text/x-python",
   "name": "python",
   "nbconvert_exporter": "python",
   "pygments_lexer": "ipython3",
   "version": "3.6.4"
  }
 },
 "nbformat": 4,
 "nbformat_minor": 2
}

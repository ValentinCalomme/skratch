{
 "cells": [
  {
   "cell_type": "markdown",
   "metadata": {},
   "source": [
    "# Summary\n",
    "\n",
    "## Pros\n",
    "- Number of clusters can be defined\n",
    "- Scales well\n",
    "- Easy to implement\n",
    "-  Easy to interpret\n",
    "\n",
    "## Cons\n",
    "- Number of clusters has to be defined\n",
    "- Is biased towards spherical clusters of the same size\n",
    "- Appropriate distance measure has to be picked\n",
    "- Convergence is dependent on initialization\n",
    "\n",
    "![](https://skratch.valentincalomme.com/wp-content/uploads/2018/06/kmeans.gif)"
   ]
  },
  {
   "cell_type": "markdown",
   "metadata": {},
   "source": [
    "## What data does K-Means perform best on?\n",
    "\n",
    "It is interesting to see that the distance measures used for K-Means, K-Medians, or K-Medoids define the shape that the clusters will tend to adopt. Indeed, because K-Means reduces the $L_2$-norm, the clusters will tend to be circular, whereas K-Medians, as it reduces the $L_1$-norm, tends to produce “square” clusters.\n",
    "\n",
    "Because of this, it is advised to use K-Means, or its counterparts, on data which has similar shapes.\n",
    "\n",
    "## What is the best value for K?\n",
    "\n",
    "As it is explained in chapter 5, the best value of K can be viewed as the number of clusters which decreases the inertia the most. As the inertia will reduce as the number of K increases, one must look at the rate at which it reduces. In some applications, qualitative measures have to be taken to ensure that the value of K is indeed best.\n",
    "\n",
    "## How to deal with large amounts of data?\n",
    "\n",
    "As K-Means uses distance measures, it can become computationally intensive quite quickly. There exist ways to cope with this. One is to use more advanced data structures, such as K-D trees, for instance, to reduce the number of pairwise distances that need to be computed each time. Another is to use a variant of K-Means called Mini-Batch K-Means. It works exactly like K-Means but at each step, the update is only made on a subset of the data, a batch.\n",
    "\n",
    "## Can K-Means be used in combination with other models?\n",
    "\n",
    "Yes. K-Means can be used as a meta-learner. Instead of training a single classifier, for instance, the data can first be clustered, and then a classifier can be trained on each cluster. This can be viewed as some sort of dimensionality reduction. Because K-Means groups similar points, the dimensionality of each cluster should be smaller than that of the whole dataset. And lower-dimensional data is typically easier to deal with."
   ]
  },
  {
   "cell_type": "markdown",
   "metadata": {},
   "source": [
    "## Tutorials\n",
    "\n",
    "- [Andrew Ng](https://www.coursera.org/learn/machine-learning/lecture/93VPG/k-means-algorithm)\n",
    "- [K-Means in R](https://www.r-bloggers.com/k-means-clustering-in-r/)\n",
    "- [datascience.com](https://www.datascience.com/blog/k-means-clustering)\n",
    "- [Dezyre (R)](https://www.dezyre.com/data-science-in-r-programming-tutorial/k-means-clustering-techniques-tutorial)\n",
    "- [Data Analytics Mastery](https://dataanalyticsmastery.wordpress.com/2017/05/25/complete-guide-to-kmeans-clustering/)"
   ]
  },
  {
   "cell_type": "markdown",
   "metadata": {},
   "source": [
    "## Implementations\n",
    "\n",
    "- [K-Means in Go](https://github.com/muesli/kmeans)\n",
    "- [sklearn](http://scikit-learn.org/stable/modules/generated/sklearn.cluster.KMeans.html)\n",
    "- [ML from scratch](https://github.com/eriklindernoren/ML-From-Scratch/blob/master/mlfromscratch/unsupervised_learning/k_means.py)"
   ]
  },
  {
   "cell_type": "markdown",
   "metadata": {},
   "source": [
    "## Videos\n",
    "\n",
    "- [Victor Lavrenko](https://www.youtube.com/watch?v=_aWzGGNrcic)\n",
    "- [Andrew Ng](https://www.youtube.com/watch?v=hDmNF9JG3lo)\n",
    "- [Siraj Raval](https://www.youtube.com/watch?v=9991JlKnFmk)\n",
    "- [Computerphile](https://www.youtube.com/watch?v=yR7k19YBqiw)\n",
    "- [Edureka](https://www.youtube.com/watch?v=4R8nWDh-wA0)"
   ]
  },
  {
   "cell_type": "markdown",
   "metadata": {},
   "source": [
    "## Other\n",
    "\n",
    "- [K-Means clustering (wiki)](https://en.wikipedia.org/wiki/K-means_clustering)"
   ]
  }
 ],
 "metadata": {
  "kernelspec": {
   "display_name": "Python 3",
   "language": "python",
   "name": "python3"
  },
  "language_info": {
   "codemirror_mode": {
    "name": "ipython",
    "version": 3
   },
   "file_extension": ".py",
   "mimetype": "text/x-python",
   "name": "python",
   "nbconvert_exporter": "python",
   "pygments_lexer": "ipython3",
   "version": "3.6.4"
  }
 },
 "nbformat": 4,
 "nbformat_minor": 2
}

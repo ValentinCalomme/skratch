{
 "cells": [
  {
   "cell_type": "markdown",
   "metadata": {},
   "source": [
    "# K-Means\n",
    "\n",
    "Let’s build a K-Means model from scratch.\n",
    "\n",
    "First, we’ll define a K-Means object and pass the following hyperparameters:\n",
    "\n",
    "- The number of desired clusters (K)\n",
    "- The maximum number of steps before converging\n",
    "- The number of times the algorithm will be run\n",
    "- A seed to fix the randomness of the model"
   ]
  },
  {
   "cell_type": "code",
   "execution_count": 11,
   "metadata": {},
   "outputs": [],
   "source": [
    "import sys ; sys.path.append(\"D:/source/skratch/source\")\n",
    "\n",
    "import numpy as np\n",
    "import copy\n",
    " \n",
    "from utils.distances import euclidean\n",
    " \n",
    "class KMeans:\n",
    " \n",
    "    def __init__(self, k=3, seed=None, n_runs=10, max_iters=300):\n",
    " \n",
    "        self.max_iters = max_iters\n",
    "        self.k = k\n",
    "        self.rnd = np.random.RandomState(seed)\n",
    "        self.n_runs = n_runs"
   ]
  },
  {
   "cell_type": "markdown",
   "metadata": {},
   "source": [
    "K-Means requires a notion of distance. For that, it uses the Euclidean distance because this is the only distance which guarantees the algorithm to converge. Indeed, the algorithm ensures that every step reduces the average distance between a centroid and the points in that clusters, which is equivalent to reducing the within-cluster sum of squares.\n",
    "\n",
    ">This [Cross-Validated](https://stats.stackexchange.com/questions/81481/why-does-k-means-clustering-algorithm-use-only-euclidean-distance-metric) post explains this in more details."
   ]
  },
  {
   "cell_type": "code",
   "execution_count": 12,
   "metadata": {},
   "outputs": [],
   "source": [
    "    def _distance(self, a, b):\n",
    "\n",
    "        return euclidean(a, b)"
   ]
  },
  {
   "cell_type": "markdown",
   "metadata": {},
   "source": [
    "Once this distance measure is defined, the within-cluster sum of squares, also called inertia, is computed by calculating the sum of the squared distances of all points to their respective centroid."
   ]
  },
  {
   "cell_type": "code",
   "execution_count": 13,
   "metadata": {},
   "outputs": [],
   "source": [
    "    def _inertia(self, X, centroids, labels):\n",
    "\n",
    "        distances = []\n",
    "\n",
    "        for i, centroid in enumerate(centroids):\n",
    "\n",
    "            distances.extend([self._distance(x, centroid)**2 for x in X[labels == i]])\n",
    "\n",
    "        return np.sum(distances)"
   ]
  },
  {
   "cell_type": "markdown",
   "metadata": {},
   "source": [
    "One of the keys of the K-Means algorithm is the relation between the clusters and the centroids. Indeed, if the clustering is defined, the centroids can be inferred, and conversely, if the centroids are defined, the clusterings can be inferred.\n",
    "\n",
    "This is why we’ll write two functions. One that will assign labels to data points given centroids, and one that will assign centroids given labels.\n",
    "\n",
    "`_compute_labels` will assign each data point to each closest centroid, and `_compute_centroids` will define centroids as the mean point of points within a certain cluster."
   ]
  },
  {
   "cell_type": "code",
   "execution_count": 14,
   "metadata": {},
   "outputs": [],
   "source": [
    "    def _compute_centroids(self, X, labels):\n",
    "\n",
    "        centroids = []\n",
    "\n",
    "        for i in range(self.k):\n",
    "\n",
    "            centroid = np.mean(X[labels == i], axis=0)\n",
    "            centroids.append(centroid)\n",
    "\n",
    "        return np.array(centroids)\n",
    "\n",
    "    def _compute_labels(self, X, centroids):\n",
    "\n",
    "        labels = []\n",
    "\n",
    "        for x in X:\n",
    "\n",
    "            distances = [self._distance(x, centroid) for centroid in centroids]\n",
    "            label = np.argmin(distances)\n",
    "            labels.append(label)\n",
    "\n",
    "        return np.array(labels)"
   ]
  },
  {
   "cell_type": "markdown",
   "metadata": {},
   "source": [
    "Once the `_compute_labels` function is defined, we can now easily define a predict function. Indeed, for a clustering algorithm, “predicting” comes down to assigning clusters to data points.\n",
    "\n",
    "Therefore, given some data points, one can reuse the `_compute_labels` function, which assigns each data point to each closest centroid."
   ]
  },
  {
   "cell_type": "code",
   "execution_count": 15,
   "metadata": {},
   "outputs": [],
   "source": [
    "    def predict(self, X):\n",
    "\n",
    "        return self._compute_labels(X, self.centroids_)"
   ]
  },
  {
   "cell_type": "markdown",
   "metadata": {},
   "source": [
    "Once we have centroids, we can assign data points to clusters. But first, we need to find these centroids. This will be done in the `fit` function.\n",
    "\n",
    "First, we need to initialize some centroids. Once we have those, we then start the iterative process. Given the centroids, labels are given to the data points, and given these labels, the centroids are updated.\n",
    "\n",
    "This process is repeated until the labels do not change, and therefore the centroids do not move anymore. This is what we call convergence."
   ]
  },
  {
   "cell_type": "code",
   "execution_count": 16,
   "metadata": {},
   "outputs": [],
   "source": [
    "    def fit(self, X, y=None):\n",
    "\n",
    "        centroids = self._initialize_centroids(X)\n",
    "        labels = self._compute_labels(X, centroids)\n",
    "        old_labels = np.full_like(labels, -1)\n",
    "\n",
    "        while any(old_labels != labels):\n",
    "\n",
    "            old_labels = labels\n",
    "            centroids = self._compute_centroids(X, labels)\n",
    "            labels = self._compute_labels(X, centroids)\n",
    "\n",
    "            yield centroids, labels"
   ]
  },
  {
   "cell_type": "markdown",
   "metadata": {},
   "source": [
    "The only thing left to define is how to initialize the centroids. There exist multiple ways to do this, but a popular one is to pick K random data points.\n",
    "\n",
    ">Another popular initialization technique is [kmeans++](https://en.wikipedia.org/wiki/K-means%2B%2B)"
   ]
  },
  {
   "cell_type": "code",
   "execution_count": 17,
   "metadata": {},
   "outputs": [],
   "source": [
    "    def _initialize_centroids(self, X):\n",
    "\n",
    "        X_ = X.copy()\n",
    "        self.rnd.shuffle(X_)\n",
    "        return X_[:self.k]"
   ]
  }
 ],
 "metadata": {
  "kernelspec": {
   "display_name": "Python 3",
   "language": "python",
   "name": "python3"
  },
  "language_info": {
   "codemirror_mode": {
    "name": "ipython",
    "version": 3
   },
   "file_extension": ".py",
   "mimetype": "text/x-python",
   "name": "python",
   "nbconvert_exporter": "python",
   "pygments_lexer": "ipython3",
   "version": "3.6.4"
  }
 },
 "nbformat": 4,
 "nbformat_minor": 2
}

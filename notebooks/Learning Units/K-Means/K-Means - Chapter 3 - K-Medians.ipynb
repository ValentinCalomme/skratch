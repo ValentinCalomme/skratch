{
 "cells": [
  {
   "cell_type": "markdown",
   "metadata": {},
   "source": [
    "# K-Medians\n",
    "\n",
    "As we mentioned before, K-Means is only guaranteed to converge using Euclidean distances. Therefore, it is highly discouraged to use other distance measures.\n",
    "\n",
    "If other distance measures must be used, the algorithm needs to be slightly tweaked. One example is K-Medians. K-Medians is a variant of the K-Means algorithm which allows one to use Manhattan distance instead of Euclidean."
   ]
  },
  {
   "cell_type": "code",
   "execution_count": 2,
   "metadata": {},
   "outputs": [],
   "source": [
    "import sys ; sys.path.append(\"D:/source/skratch/source\")\n",
    "import copy\n",
    "\n",
    "import numpy as np\n",
    "\n",
    "from utils.distances import euclidean\n",
    "\n",
    "\n",
    "class KMeans:\n",
    "\n",
    "    def __init__(self, k=3, seed=None, n_runs=10, max_iters=300):\n",
    "\n",
    "        self.max_iters = max_iters\n",
    "        self.k = k\n",
    "        self.rnd = np.random.RandomState(seed)\n",
    "        self.n_runs = n_runs"
   ]
  },
  {
   "cell_type": "markdown",
   "metadata": {},
   "source": [
    "In order to ensure convergence, the way centroids are defined is slightly modified. In K-Medians, a centroid is defined as the median point in a cluster. This means that the centroid, in each dimension, is composed of the median value of all points in that cluster."
   ]
  },
  {
   "cell_type": "code",
   "execution_count": 3,
   "metadata": {},
   "outputs": [],
   "source": [
    "    def _compute_centroids(self, X, labels):\n",
    "\n",
    "        centroids = []\n",
    "\n",
    "        for i in range(self.k):\n",
    "\n",
    "            centroid = np.array([np.median(dim) for dim in X[labels == i].T])\n",
    "            centroids.append(centroid)\n",
    "\n",
    "        return np.array(centroids)"
   ]
  },
  {
   "cell_type": "markdown",
   "metadata": {},
   "source": [
    "Thankfully, because K-Medians and K-Means share so much of their logic, this is all that is required to implement K-Medians!\n",
    "\n",
    "![](https://skratch.valentincalomme.com/wp-content/uploads/2018/08/kmedians.gif)"
   ]
  }
 ],
 "metadata": {
  "kernelspec": {
   "display_name": "Python 3",
   "language": "python",
   "name": "python3"
  },
  "language_info": {
   "codemirror_mode": {
    "name": "ipython",
    "version": 3
   },
   "file_extension": ".py",
   "mimetype": "text/x-python",
   "name": "python",
   "nbconvert_exporter": "python",
   "pygments_lexer": "ipython3",
   "version": "3.6.4"
  }
 },
 "nbformat": 4,
 "nbformat_minor": 2
}

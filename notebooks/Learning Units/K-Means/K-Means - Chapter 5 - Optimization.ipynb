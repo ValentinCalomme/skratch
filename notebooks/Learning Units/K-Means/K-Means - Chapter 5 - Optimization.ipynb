{
 "cells": [
  {
   "cell_type": "markdown",
   "metadata": {},
   "source": [
    "# Optimization\n",
    "\n",
    "There are certain ways that K-Means can be optimized. One is to ensure that the local minimum that is found as is close to the global minimum, and the other is to find the optimal number of clusters.\n",
    "\n",
    "## Choosing K\n",
    "\n",
    "In some applications, K might be known in advance, and therefore, this section can be skipped. But in many applications, it is not quite clear what number of K is best. If we think about it, we see that increasing K will almost always reduce the inertia. Why? Because if there are more centroids, then each point is likely to be closer to one.\n",
    "\n",
    "Therefore, we can't simply loop through values of K and see which one has the lowest inertia, as this would almost always yield a value close to the number of data points, which is not quite helpful. One technique to solve this is called the Elbow method. In short, the [Elbow method](https://en.wikipedia.org/wiki/Elbow_method_%28clustering%29) tries out more and more clusters, until the inertia's decrease starts to slow down.\n",
    "\n",
    "![](https://skratch.valentincalomme.com/wp-content/uploads/2018/08/k_means_inertia.png)"
   ]
  },
  {
   "cell_type": "markdown",
   "metadata": {},
   "source": [
    "On the plot, we can see that the elbow seems to be located at $K=3$.\n",
    "\n",
    "## Multiple runs\n",
    "\n",
    "Because the outcome of K-Means is dependent on the initial centroids, it is common to run the algorithm multiple times. Code-wise, it simply means adding a loop around the `fit` method. For interface reasons, the method will be renamed `_fit`."
   ]
  },
  {
   "cell_type": "code",
   "execution_count": 1,
   "metadata": {},
   "outputs": [],
   "source": [
    "    def fit(self, X, y=None):\n",
    "\n",
    "        self.inertia_ = float('inf')  # initialize as worst possible inertia\n",
    "\n",
    "        for run in range(self.n_runs):\n",
    "\n",
    "            for i, (c, l) in enumerate(self._fit(X, y)):\n",
    "                centroids, labels = c, l\n",
    "\n",
    "                if i > self.max_iters:\n",
    "                    break\n",
    "\n",
    "            inertia = self._inertia(X, centroids, labels)\n",
    "\n",
    "            if inertia < self.inertia_:\n",
    "\n",
    "                self.inertia_ = inertia\n",
    "                self.centroids_ = centroids\n",
    "                self.labels_ = labels\n",
    "\n",
    "        return self"
   ]
  },
  {
   "cell_type": "markdown",
   "metadata": {},
   "source": [
    "## Better Initialization\n",
    "\n",
    "Running the algorithm multiple times will automatically increase the chances of finding a good local optimum. On top of this, people have come up with different ways to initialize the centroids which increase both the speed and the quality of the local optimum that is found.\n",
    "\n",
    "One famous way is the [kmeans++ algorithm](https://en.wikipedia.org/wiki/K-means%2B%2B). It works as follows:\n",
    "\n",
    "- Pick a random centroid\n",
    "- Compute the distance d_i of each point i to that centroid\n",
    "- Select the next centroid randomly, such that each point has probability d^2 to be chosen.\n",
    "- Continue until the desired number of centroids is picked.\n",
    "\n",
    "Intuitively, [kmeans++ algorithm](https://en.wikipedia.org/wiki/K-means%2B%2B) ensures that the centroids are well spread out, which improves the performance of K-Means in practice."
   ]
  },
  {
   "cell_type": "code",
   "execution_count": 2,
   "metadata": {},
   "outputs": [],
   "source": [
    "    def _initialize_centroids(self, X):\n",
    "        \"\"\"kmeans++\"\"\"\n",
    "\n",
    "        centroids = []\n",
    "\n",
    "        weights = np.ones(len(X))\n",
    "        weights /= weights.sum()\n",
    "\n",
    "        for k in range(self.k):\n",
    "\n",
    "            centroid = X[np.random.choice(np.arange(len(X)), 1, p=weights)[0], :]\n",
    "\n",
    "            centroids.append(centroid)\n",
    "\n",
    "            distances = np.array([self._distance(centroid, x) for x in X])\n",
    "\n",
    "            weights = distances**2\n",
    "            weights /= weights.sum()\n",
    "\n",
    "        return centroids"
   ]
  }
 ],
 "metadata": {
  "kernelspec": {
   "display_name": "Python 3",
   "language": "python",
   "name": "python3"
  },
  "language_info": {
   "codemirror_mode": {
    "name": "ipython",
    "version": 3
   },
   "file_extension": ".py",
   "mimetype": "text/x-python",
   "name": "python",
   "nbconvert_exporter": "python",
   "pygments_lexer": "ipython3",
   "version": "3.6.4"
  }
 },
 "nbformat": 4,
 "nbformat_minor": 2
}

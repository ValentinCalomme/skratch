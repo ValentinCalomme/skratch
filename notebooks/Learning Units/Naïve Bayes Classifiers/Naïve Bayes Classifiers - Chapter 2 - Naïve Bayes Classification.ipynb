{
 "cells": [
  {
   "cell_type": "markdown",
   "metadata": {},
   "source": [
    "# Naïve Bayes Classification\n",
    "\n",
    "Here, we will show how to implement a Naive Bayes classifier from scratch. We first start with a <i><b>predict</i></b> function. This function will compute the joint probability for each class as defined in <i>**_predict_joint_proba**</i>, and return the class with the highest joint probability.\n",
    "\n",
    "As described above, the joint probability is defined as $Prior×Likelihood$.\n",
    "\n",
    "In order to compute the evidence and likelihood, however, one must assume the probability distribution that the features follow. And there are plenty of them available. This is why we often refer to Naïve Bayes classifiers, plural, one for each distribution."
   ]
  },
  {
   "cell_type": "code",
   "execution_count": null,
   "metadata": {},
   "outputs": [],
   "source": [
    "import numpy as np\n",
    " \n",
    " \n",
    "class NBClassifier(object):\n",
    " \n",
    "    def predict(self, X, y=None):\n",
    " \n",
    "        joint_probas = self._predict_joint_proba(X)\n",
    "        indices = np.argmax(joint_probas, axis=1)\n",
    " \n",
    "        return self.classes_[indices]\n",
    " \n",
    "    def _predict_joint_proba(self, X, y=None):\n",
    " \n",
    "        return np.array([[self._get_prior(c) * self._get_likelihood(sample, c) for c in self.classes_]\n",
    "                         for sample in X])"
   ]
  },
  {
   "cell_type": "markdown",
   "metadata": {},
   "source": [
    "In order to calculate actual probability estimates, the joint probabilities have to be divided by the evidence."
   ]
  },
  {
   "cell_type": "code",
   "execution_count": null,
   "metadata": {},
   "outputs": [],
   "source": [
    "    def predict_proba(self, X, y=None):\n",
    "\n",
    "        joint_probas = self._predict_joint_proba(X, y)\n",
    "        evidence = np.array([[self._get_evidence(x)] for x in X])\n",
    "\n",
    "        return joint_probas / evidence"
   ]
  },
  {
   "cell_type": "markdown",
   "metadata": {},
   "source": [
    "Now, this is only possible if the values for these probabilities are known. This is why, we need to compute the prior, likelihood, and evidence for each class given the available data. Naïve Bayes classifiers are typically suited for online learning as their distributions can easily be updated."
   ]
  },
  {
   "cell_type": "code",
   "execution_count": null,
   "metadata": {},
   "outputs": [],
   "source": [
    "    def fit(self, X, y):\n",
    "\n",
    "        self.class_counts_ = self._fit_prior(y)\n",
    "        self.likelihood_ = self._fit_likelihood(X, y)\n",
    "        self.evidence_ = self._fit_evidence(X)\n",
    "\n",
    "        return self\n",
    "\n",
    "    def update(self, X, y):\n",
    "\n",
    "        self.class_counts_ = self._update_priors(y)\n",
    "        self.likelihood_ = self._update_likelihood(X, y)\n",
    "        self.evidence_ = self._update_evidence(X)\n",
    "\n",
    "        return self"
   ]
  },
  {
   "cell_type": "markdown",
   "metadata": {},
   "source": [
    "For most distributions, computing the prior consists in simply keeping track of class frequencies."
   ]
  },
  {
   "cell_type": "code",
   "execution_count": null,
   "metadata": {},
   "outputs": [],
   "source": [
    "    def _fit_prior(self, y):\n",
    "\n",
    "        self.classes_, self.class_counts_ = np.unique(y, return_counts=True)\n",
    "\n",
    "        return self.class_counts_\n",
    "\n",
    "    def _get_prior(self, c):\n",
    "\n",
    "        return self.class_counts_ / np.sum(self.class_counts_)\n",
    "\n",
    "    def _update_priors(self, y):\n",
    "\n",
    "        self.classes_, counts = np.unique(y, return_counts=True)\n",
    "        self.class_counts_ += counts\n",
    "\n",
    "        return self.class_counts_"
   ]
  }
 ],
 "metadata": {
  "kernelspec": {
   "display_name": "Python 3",
   "language": "python",
   "name": "python3"
  },
  "language_info": {
   "codemirror_mode": {
    "name": "ipython",
    "version": 3
   },
   "file_extension": ".py",
   "mimetype": "text/x-python",
   "name": "python",
   "nbconvert_exporter": "python",
   "pygments_lexer": "ipython3",
   "version": "3.6.4"
  }
 },
 "nbformat": 4,
 "nbformat_minor": 2
}

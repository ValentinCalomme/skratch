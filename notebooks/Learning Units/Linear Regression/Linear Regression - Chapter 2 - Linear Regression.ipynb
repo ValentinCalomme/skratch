{
 "cells": [
  {
   "cell_type": "markdown",
   "metadata": {},
   "source": [
    "# Linear Regression\n",
    "\n",
    "Building a Linear Regression model is straightforward. However, there are many tweaks that can be added to it. We will first start with the simpler version."
   ]
  },
  {
   "cell_type": "code",
   "execution_count": 1,
   "metadata": {},
   "outputs": [],
   "source": [
    "import sys ; sys.path.append(\"D:/source/skratch/source\")\n",
    "\n",
    "import numpy as np\n",
    " \n",
    "from utils.preprocessing import add_dummy_feature\n",
    " \n",
    " \n",
    "class LinearRegression:\n",
    " \n",
    "    def __init__(self,\n",
    "                 fit_intercept=True):\n",
    " \n",
    "        self.fit_intercept = fit_intercept"
   ]
  },
  {
   "cell_type": "markdown",
   "metadata": {},
   "source": [
    "The `fit_intercept` argument defines whether or not we want to use an intercept. If no intercept is used, the data is assumed to already be centred. Mathematically, the intercept is the offset that is added to a linear combination. It is $b$ in $y= mx+b$.\n",
    "\n",
    "Making predictions with Linear Regression is simple. Once the weights are known, we can do a dot product between them and the features of the data points whose target we’d like to predict.\n",
    "\n",
    "In case there is an intercept, we need to add it to the features. This intercept is simply a feature that is always equal to $1$, regardless of the data point."
   ]
  },
  {
   "cell_type": "code",
   "execution_count": 2,
   "metadata": {},
   "outputs": [],
   "source": [
    "    def predict(self, X, weights=None):\n",
    "\n",
    "        if self.fit_intercept is True:\n",
    "            X = add_dummy_feature(X)\n",
    "\n",
    "        if weights is None:\n",
    "            weights = self.coef_\n",
    "\n",
    "        return X.dot(weights)"
   ]
  },
  {
   "cell_type": "markdown",
   "metadata": {},
   "source": [
    "Now that we covered what Linear Regression needs to learn, we’ll focus on how. The goal of the model is to find a set of weights which minimizes a loss function. This loss is typically defined as the Mean Squared Error of the model."
   ]
  },
  {
   "cell_type": "code",
   "execution_count": 3,
   "metadata": {},
   "outputs": [],
   "source": [
    "    def _loss_function(self, X, y):\n",
    "\n",
    "        prediction_loss = lambda weights: np.mean((y - self.predict(X, weights)) ** 2) * 0.5\n",
    "\n",
    "        return lambda weights: prediction_loss(weights)"
   ]
  },
  {
   "cell_type": "markdown",
   "metadata": {},
   "source": [
    "Now, we could just try a lot of weights and see which work best. But there are smarter ways to do this. Thankfully, solving $y = X \\cdot w$ also happens to minimize the loss. The equation can be rearranged like this to find the weights: $w = (X^TX)^{-1}X^{T}y$"
   ]
  },
  {
   "cell_type": "code",
   "execution_count": 4,
   "metadata": {},
   "outputs": [],
   "source": [
    "    def fit(self, X, y):\n",
    "\n",
    "        if self.fit_intercept is True:\n",
    "            X = add_dummy_feature(X)\n",
    "\n",
    "        self.coef_ = np.linalg.inv(X.T.dot(X)).dot(X.T).dot(y)\n",
    "\n",
    "        return self.coef_"
   ]
  },
  {
   "cell_type": "markdown",
   "metadata": {},
   "source": [
    "As much as this technique is elegant, it doesn’t always work well in practice. As it involves taking the inverse of a matrix, it doesn’t always work or can be numerically challenging. Plus, it doesn’t permit online learning, as the solution has to be computed from scratch everytime a new data point is added to the data.\n",
    "\n",
    "In the next chapter, we’ll discuss gradient descent, a fundamental optimization technique which addresses the pitfalls of solving Linear Regression analytically."
   ]
  }
 ],
 "metadata": {
  "kernelspec": {
   "display_name": "Python 3",
   "language": "python",
   "name": "python3"
  },
  "language_info": {
   "codemirror_mode": {
    "name": "ipython",
    "version": 3
   },
   "file_extension": ".py",
   "mimetype": "text/x-python",
   "name": "python",
   "nbconvert_exporter": "python",
   "pygments_lexer": "ipython3",
   "version": "3.6.4"
  }
 },
 "nbformat": 4,
 "nbformat_minor": 2
}

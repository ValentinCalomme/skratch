{
 "cells": [
  {
   "cell_type": "markdown",
   "metadata": {},
   "source": [
    "# Summary\n",
    "\n",
    "## Pros\n",
    "\n",
    "- Can fit high-dimensional functions\n",
    "- Can be solved directly or online\n",
    "- Learning can be tweaked through the loss function\n",
    "- Weights can be interpreted\n",
    "\n",
    "## Cons\n",
    "\n",
    "- Can tend to overfit\n",
    "- Many hyperparameters to tune\n",
    "- Weights are not guaranteed to be interpretable\n",
    "- Sensitive to noise\n",
    "\n",
    "![](https://skratch.valentincalomme.com/wp-content/uploads/2018/09/polymial_regression_4.gif)"
   ]
  },
  {
   "cell_type": "markdown",
   "metadata": {},
   "source": [
    "## Can we interpret the weights?\n",
    "\n",
    "The learned weights of a Linear Regression model can be interpreted but it should be done with caution. Indeed, these weights were learned because they minimized the loss function, and not because they are necessarily interpretable. It is possible, however, through modifying the loss function, to add additional constraints on the range in which weights are expected to be found, which might help interpretability.\n",
    "\n",
    "## How can LASSO be used for feature selection?\n",
    "\n",
    "LASSO can be used for feature selection because it shrinks the weights associated to the features to zero. By looking at the order in which it does so, one could infer a ranking of “importance” for the features. However, it should be noted that even though a feature might be shrunk to zero, it doesn’t mean that it doesn’t carry valuable information. It just means that it doesn’t carry information that the other features currently.\n",
    "\n",
    "## How to deal with large amounts of data?\n",
    "\n",
    "As it was explained in the Gradient Descent chapter, gradient descent can be used to deal with large amounts of data. Indeed, it is possible to use a batched version of the algorithm where the data is fed in stream-like fashion. This enables online learning and makes Linear Regression a scalable algorithm.\n",
    "\n",
    ">It is important to note that there exist many variations of the gradient descent algorithm. All trying to deal with different pitfalls of the simple version that was introduced in this learning unit."
   ]
  },
  {
   "cell_type": "markdown",
   "metadata": {},
   "source": [
    "## Tutorials\n",
    "\n",
    "- [Linear Regression with NumPy](https://www.cs.toronto.edu/~frossard/post/linear_regression/)\n",
    "- [Machine Learning Mastery](https://machinelearningmastery.com/simple-linear-regression-tutorial-for-machine-learning/)\n",
    "- [Andrew Ng Lecture Notes](http://cs229.stanford.edu/notes/cs229-notes1.pdf)\n",
    "\n",
    "## Implementations\n",
    "\n",
    "- [sklearn](http://scikit-learn.org/stable/modules/classes.html#module-sklearn.linear_model)\n",
    "- [ML from scratch](https://github.com/eriklindernoren/ML-From-Scratch/blob/master/mlfromscratch/supervised_learning/regression.py)\n",
    "\n",
    "\n",
    "## Videos\n",
    "\n",
    "- [Andrew Ng](https://www.youtube.com/watch?v=kHwlB_j7Hkc)\n",
    "- [Siraj Raval](https://www.youtube.com/watch?v=uwwWVAgJBcM)\n",
    "- [Edureka](https://www.youtube.com/watch?v=E5RjzSK0fvY)\n",
    "\n",
    "## Other\n",
    "\n",
    "- [Linear Regression (wiki)](https://en.wikipedia.org/wiki/Linear_regression)\n",
    "- [Regularization (wiki)](https://en.wikipedia.org/wiki/Regularization_%28mathematics%29)\n",
    "- [Gradient Descent (wiki)](https://en.wikipedia.org/wiki/Gradient_descent)\n"
   ]
  }
 ],
 "metadata": {
  "kernelspec": {
   "display_name": "Python 3",
   "language": "python",
   "name": "python3"
  },
  "language_info": {
   "codemirror_mode": {
    "name": "ipython",
    "version": 3
   },
   "file_extension": ".py",
   "mimetype": "text/x-python",
   "name": "python",
   "nbconvert_exporter": "python",
   "pygments_lexer": "ipython3",
   "version": "3.6.4"
  }
 },
 "nbformat": 4,
 "nbformat_minor": 2
}

{
 "cells": [
  {
   "cell_type": "markdown",
   "metadata": {},
   "source": [
    "# Gradient Descent\n",
    "\n",
    "As it was mentioned in the previous chapter, whilst Linear Regression can be sometimes solved analytically, it doesn’t always work in practice. Gradient descent is an iterative optimizer which works quite well in practice. The core principle is that it uses the gradient of the loss function in order to know in which direction the weights should go.\n",
    "\n",
    "For Linear Regression, we can define the loss function and its gradient as follows:"
   ]
  },
  {
   "cell_type": "code",
   "execution_count": 1,
   "metadata": {},
   "outputs": [],
   "source": [
    "    def _loss_function(self, X, y):\n",
    "\n",
    "        prediction_loss = lambda weights: np.mean((y - self.predict(X, weights)) ** 2) * 0.5\n",
    "\n",
    "        return lambda weights: prediction_loss(weights)\n",
    "\n",
    "    def _loss_gradient(self, X, y):\n",
    "\n",
    "        features = add_dummy_feature(X) if self.fit_intercept is True else X\n",
    "\n",
    "        prediction_loss_gradient = lambda weights: (self.predict(X, weights) - y).dot(features) / len(features)\n",
    "\n",
    "        return lambda weights: prediction_loss_gradient(weights)"
   ]
  },
  {
   "cell_type": "markdown",
   "metadata": {},
   "source": [
    "In this case, the loss is identical to the Mean-Squared Error, and therefore, it represents how close the predictions that the model makes are to the correct values, penalizing large errors proportionally more. Being able to calculate the loss and its gradient means that we can know in which direction we should update our weights in order to reduce the loss, which is the ultimate goal.\n",
    "\n",
    "Thankfully, it can also be shown that the Linear Regression loss is convex, which means that it will look like a bowl and will only have one minimum.\n",
    "\n",
    "![](https://skratch.valentincalomme.com/wp-content/uploads/2018/09/gradient_descent.gif)"
   ]
  },
  {
   "cell_type": "markdown",
   "metadata": {},
   "source": [
    "Gradient descent is an iterative algorithm which works as follows:\n",
    "\n",
    "- Initialize some weights\n",
    "- Calculate the gradient of the loss for these weights\n",
    "- Update each weight in the direction of the gradient\n",
    "- Continue until convergence\n",
    "\n",
    "In practice, convergence happens when the loss stops decreasing, or when a set number of iterative steps have been computed.\n",
    "\n",
    "Using gradient descent instead of the analytical solution means that we need to slightly modify the code. The `fit` function will now split in two. First, the main `fit` function will simply call the new `_fit` function in order to simulate each iteration of the gradient descent optimization."
   ]
  },
  {
   "cell_type": "code",
   "execution_count": 2,
   "metadata": {},
   "outputs": [],
   "source": [
    "    def fit(self, X, y):\n",
    "\n",
    "        self.coef_ = self._initialize_weights(X)\n",
    "\n",
    "        for weights, loss in self._fit(X, y):\n",
    "\n",
    "            self.coef_ = weights\n",
    "            self.loss_ = loss\n",
    "\n",
    "        return self"
   ]
  },
  {
   "cell_type": "markdown",
   "metadata": {},
   "source": [
    "Whilst the optimization itself will take place in the new `_fit` method."
   ]
  },
  {
   "cell_type": "code",
   "execution_count": 3,
   "metadata": {},
   "outputs": [],
   "source": [
    "    def _fit(self, X, y):\n",
    "\n",
    "        weights = self.coef_\n",
    "\n",
    "        loss_function = self._loss_function(X, y)\n",
    "        loss_gradient = self._loss_gradient(X, y)\n",
    "\n",
    "        old_loss = float('inf')\n",
    "        new_loss = loss_function(weights)\n",
    "\n",
    "        while old_loss - new_loss > self.tol:\n",
    "\n",
    "            yield weights, new_loss\n",
    "\n",
    "            old_loss = new_loss\n",
    "            weights =  weights - self.learning_rate * loss_gradient(weights)\n",
    "            new_loss = loss_function(weights)"
   ]
  }
 ],
 "metadata": {
  "kernelspec": {
   "display_name": "Python 3",
   "language": "python",
   "name": "python3"
  },
  "language_info": {
   "codemirror_mode": {
    "name": "ipython",
    "version": 3
   },
   "file_extension": ".py",
   "mimetype": "text/x-python",
   "name": "python",
   "nbconvert_exporter": "python",
   "pygments_lexer": "ipython3",
   "version": "3.6.4"
  }
 },
 "nbformat": 4,
 "nbformat_minor": 2
}

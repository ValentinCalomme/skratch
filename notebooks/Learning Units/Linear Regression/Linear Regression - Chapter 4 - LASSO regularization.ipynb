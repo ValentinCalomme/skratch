{
 "cells": [
  {
   "cell_type": "markdown",
   "metadata": {},
   "source": [
    "# LASSO regularization\n",
    "\n",
    "One of Machine Learning’s big challenges is avoiding overfitting. Overfitting typically means that a model is modelling a function that is more complex than the one it is supposed to. This is often due to noise being present in the data, tricking the models into “thinking” that the problem is more complex than it really is. It also happens when the model is more complex than it needs to be.\n",
    "\n",
    "With linear regression, it is possible to fit arbitrarily high-dimensional functions, but it doesn’t always mean it is a good idea. Let’s take a look at the example below.\n",
    "\n",
    "![](https://skratch.valentincalomme.com/wp-content/uploads/2018/09/linear_regression_overfitting-1.gif)"
   ]
  },
  {
   "cell_type": "markdown",
   "metadata": {},
   "source": [
    "The data represents a one-dimensional function, a simple “line”. However, the model tried to fit a 5-dimensional function. Whilst it seems to be fitting the regular points correctly, it is evident that the model has been affected by the two noisy points.\n",
    "\n",
    "One way to deal with this is to use regularization. Regularization is the process of adding constraints on the weights of a model. This can be done by adding that term in the loss function and in its gradient."
   ]
  },
  {
   "cell_type": "code",
   "execution_count": 2,
   "metadata": {},
   "outputs": [],
   "source": [
    "    def _loss_function(self, X, y):\n",
    "\n",
    "        prediction_loss = lambda weights: 0.5 * (y - self.predict(X, weights)) ** 2\n",
    "        regularization_loss = lambda weights: self.regularizer(weights)\n",
    "\n",
    "        return lambda weights: np.mean(prediction_loss(weights) + regularization_loss(weights))\n",
    "\n",
    "    def _loss_gradient(self, X, y):\n",
    "\n",
    "        features = add_dummy_feature(X) if self.fit_intercept is True else X\n",
    "\n",
    "        prediction_loss_gradient = lambda weights: (self.predict(X, weights) - y).dot(features) / len(features)\n",
    "        regularization_loss_gradient = lambda weights: self.regularizer.gradient(weights)\n",
    "\n",
    "        return lambda weights: prediction_loss_gradient(weights) + regularization_loss_gradient(weights)"
   ]
  },
  {
   "cell_type": "markdown",
   "metadata": {},
   "source": [
    "The ultimate goal is to “discourage” a model to be too high-dimensional. One way to define this constraint is LASSO. LASSO stands for Least Absolute Shrinkage and Selection Operator. It regularizes the model by adding the sum of the absolute weights to the loss function."
   ]
  },
  {
   "cell_type": "code",
   "execution_count": 3,
   "metadata": {},
   "outputs": [],
   "source": [
    "class LASSO:\n",
    " \n",
    "    def __init__(self, _lambda):\n",
    "        self._lambda = _lambda\n",
    " \n",
    "    def __call__(self, theta):\n",
    " \n",
    "        return self._lambda * np.sum(np.abs(theta))\n",
    " \n",
    "    def gradient(self, theta):\n",
    " \n",
    "        return self._lambda * np.sign(theta)"
   ]
  },
  {
   "cell_type": "markdown",
   "metadata": {},
   "source": [
    "The regularization is controlled by a factor typically referred to as Lambda. If Lambda equals 0, there is no regularization, otherwise, the larger the value of Lambda, the more the regularization term will impact the loss function.\n",
    "\n",
    "Using LASSO ensures that the function remains as low-dimensional as possible, as long as it doesn’t affect the loss too negatively. This leads to the function fitted by the model to be simpler, which in general is a good thing.\n",
    "\n",
    "![](https://skratch.valentincalomme.com/wp-content/uploads/2018/09/lasso.gif)"
   ]
  },
  {
   "cell_type": "code",
   "execution_count": null,
   "metadata": {},
   "outputs": [],
   "source": []
  }
 ],
 "metadata": {
  "kernelspec": {
   "display_name": "Python 3",
   "language": "python",
   "name": "python3"
  },
  "language_info": {
   "codemirror_mode": {
    "name": "ipython",
    "version": 3
   },
   "file_extension": ".py",
   "mimetype": "text/x-python",
   "name": "python",
   "nbconvert_exporter": "python",
   "pygments_lexer": "ipython3",
   "version": "3.6.4"
  }
 },
 "nbformat": 4,
 "nbformat_minor": 2
}

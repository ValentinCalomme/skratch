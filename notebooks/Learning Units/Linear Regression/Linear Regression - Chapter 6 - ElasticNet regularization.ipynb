{
 "cells": [
  {
   "cell_type": "markdown",
   "metadata": {},
   "source": [
    "# ElasticNet regularization\n",
    "\n",
    "Ridge regularization is an alternative to LASSO. It minimizes the L2-Norm instead of the L1-Norm, which means that the weights are maintained under control but not necessarily to zero. This offers a smoother alternative to LASSO, as the modelled function might still need to be high-dimensional in certain areas.\n",
    "\n",
    "It is defined as follows:"
   ]
  },
  {
   "cell_type": "code",
   "execution_count": 1,
   "metadata": {},
   "outputs": [],
   "source": [
    "class ElasticNet:\n",
    " \n",
    "    def __init__(self, _lambda, l1_ratio=0.5):\n",
    "        self.ratio = l1_ratio\n",
    "        self._lambda = _lambda\n",
    " \n",
    "    def __call__(self, theta):\n",
    " \n",
    "        l1 = LASSO(_lambda=1)\n",
    "        l2 = Ridge(_lambda=1)\n",
    " \n",
    "        return self._lambda * (self.ratio * l1(theta) + (1 - self.ratio) * l2(theta))\n",
    " \n",
    "    def gradient(self, theta):\n",
    " \n",
    "        l1 = LASSO(_lambda=1)\n",
    "        l2 = Ridge(_lambda=1)\n",
    " \n",
    "        return self._lambda * (self.ratio * l1.gradient(theta) + (1 - self.ratio) * l2.gradient(theta))"
   ]
  },
  {
   "cell_type": "markdown",
   "metadata": {},
   "source": [
    "![](https://skratch.valentincalomme.com/wp-content/uploads/2018/09/elasticnet.gif)"
   ]
  }
 ],
 "metadata": {
  "kernelspec": {
   "display_name": "Python 3",
   "language": "python",
   "name": "python3"
  },
  "language_info": {
   "codemirror_mode": {
    "name": "ipython",
    "version": 3
   },
   "file_extension": ".py",
   "mimetype": "text/x-python",
   "name": "python",
   "nbconvert_exporter": "python",
   "pygments_lexer": "ipython3",
   "version": "3.6.4"
  }
 },
 "nbformat": 4,
 "nbformat_minor": 2
}

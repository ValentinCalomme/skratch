{
 "cells": [
  {
   "cell_type": "markdown",
   "metadata": {},
   "source": [
    "# Learning Units\n",
    "\n",
    "In order to make our learning resources as accessible as possible, we decided to create learning units. Typically, a learning unit is a page on the website which contains a brief summary, practical examples, step-by-step implementations, visualizations, and so on.\n",
    "\n",
    "This way, we provide a more interesting way to go through our implementations and provide additional context. Each learning unit is related to a specific implementation whose link can be found on the page. Each learning unit can also be found as a Jupyter Notebook, and therefore, its code can be run in the browser.\n",
    "\n",
    "## Visualizations\n",
    "\n",
    "Visualizations are always a great tool to gain intuition about certain concepts. In this project, we used Matplotlib as a library because it is easy to use and because they offer neat ways to create animations that can be turned into GIFs. This way, we hope to visualize important concepts to help you see what is happening under the hood of all these algorithms.\n",
    "\n",
    "To keep the code readable, we separated the visualization code from the implementation code. On the website, clicking on a visualization will redirect you to Github where you will see the code that was written to create the image or the animation. This way, you are also free to modify the code and experiment yourself.\n",
    "\n",
    "## Examples\n",
    "\n",
    "We also provide examples of the code that we write being put to use. These examples can be found in the repository as well. Keep in mind that the code was not written to be necessarily very robust or used as a package. The examples are there to make it easier to experiment with the various models that we wrote to further your understanding.\n",
    "\n",
    "## Other resources\n",
    "\n",
    "We do not believe that you should only learn machine learning through our website. That is why we made sure to provide other useful resources related to each learning unit that we create. They range from Youtube videos to other implementations, to tutorials. We also have a useful resources section for more general content on the website."
   ]
  }
 ],
 "metadata": {
  "kernelspec": {
   "display_name": "Python 3",
   "language": "python",
   "name": "python3"
  },
  "language_info": {
   "codemirror_mode": {
    "name": "ipython",
    "version": 3
   },
   "file_extension": ".py",
   "mimetype": "text/x-python",
   "name": "python",
   "nbconvert_exporter": "python",
   "pygments_lexer": "ipython3",
   "version": "3.6.4"
  }
 },
 "nbformat": 4,
 "nbformat_minor": 2
}

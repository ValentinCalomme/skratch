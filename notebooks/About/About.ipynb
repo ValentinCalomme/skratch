{
 "cells": [
  {
   "cell_type": "markdown",
   "metadata": {},
   "source": [
    "# Skratch\n",
    "\n",
    "Machine learning is a combination of statistics, computer science, linear algebra, information theory, and other topics, which can make it a difficult topic to learn. Because of this, and the abundance of libraries, packages or even cloud solutions, learning how models actually work is not very tempting. This leads to an increasing amount of people who use models but do not necessarily understand how they work.\n",
    "\n",
    "Understanding how models work can be extremely useful. It can save a lot of time when choosing models or hyperparameters. And it can be of great help when trying to understand why a model performs the way it does, ultimately helping you to come up with a better solution. However, most learning resources are either too technical, making them unattractive to most people, or they are too high-level and do not provide deep enough explanations of the material.\n",
    "\n",
    "Skratch is there to try to fill that gap.\n",
    "\n",
    "## Who is it for?\n",
    "\n",
    "Skratch is for anyone who is interested in machine learning, and especially those who like to build things themselves. Because it has a high focus on code, it might be too technical for some, and because it doesn't go deeply into statistics, it might be too high-level for some. We strive to find a balance between the two sides. Even though the code is written in Python, it doesn't mean that it isn't useful for people who use different languages. Python was used for its readability and the code was written trying not to be too \"Pythonic\".\n",
    "\n",
    "## What makes Skratch different?\n",
    "\n",
    "Skratch's philosophy is that to truly understand something, you must first break it down into atomic steps. This is why it was decided to implement machine learning algorithms from scratch and use the code as a learning tool. This way, we can truly show what is happening under the hood. Also, we often don't realize how many things we don't fully understand about a topic until we have to explain it ourselves. Implementing algorithms from scratch ensures that we must understand every step.\n",
    "\n",
    "As explained above, Skratch is trying to fill a gap between \"too technical\" and \"too high-level\". This means that we won't delve deeply into statistics. If necessary, we will provide relevant links to other resources. On the other hand, we do not want to be too high-level and we believe that showing each step of an algorithm through code can achieve that.\n",
    "\n",
    "Skratch does not pretend to be the only useful learning resource out there. It is the complete opposite. There exist many incredible resources about machine learning, and we would simply like to add another one to the list. We understand that everyone learns differently and that perhaps, one explanation can make things click for one person but not for the other. We hope that by offering a different way to learn machine learning, we can make things click for more people.\n",
    "\n",
    "## Code\n",
    "\n",
    "Skratch views the code itself as a teaching tool. The goal of the code is to highlight the inner workings of the algorithms. The focus is put on readability as opposed to speed or robustness. The code is therefore composed of many functions, often not much longer than 5-10 lines.\n",
    "\n",
    "The code can be found on Github and is a work in progress. Any sort of contributions is welcome!\n",
    "\n",
    "## Why Python?\n",
    "\n",
    "Machine learning can be written in any programming language, but Python was chosen because it is in general very readable and it is also a language that most people interested in machine learning know. Because the goal is not to teach Python, we tried to steer clear from syntax that could be considered \"too Pythonic\". We only used one package outside the standard library. The package is NumPy(http://www.numpy.org/), it is very commonly used in scientific Python as it helps perform matrix operations. In cases where the syntax is very Python-specific, comments are there to explain what the line means.\n",
    "\n",
    "Interesting to note that the code was written trying to adopt the sklearn interface. We used similar naming conventions as well, therefore, reading the code should be straightforward for sklearn users.\n",
    "\n",
    "## Tests\n",
    "\n",
    "Whilst the code was not written to be production-grade, we still wanted to make sure that it worked. Therefore, we wrote tests (using Pytest) to confirm that the different algorithms we implemented indeed worked as expected. In order to ensure that the implementations are correct, unit tests are written to compare the behavior of the Skratch code to expected behavior, often displayed by packages like Sklearn or Scipy.\n",
    "\n",
    "Thanks to these tests, one could also create exercises where they comment out a function and try to reimplement it themselves. If the test passes, the implementation should be correct! Bear in mind that it is not the primary goal of the tests and therefore, this might not be true 100% of the time\n"
   ]
  },
  {
   "cell_type": "code",
   "execution_count": null,
   "metadata": {},
   "outputs": [],
   "source": []
  }
 ],
 "metadata": {
  "kernelspec": {
   "display_name": "Python 3",
   "language": "python",
   "name": "python3"
  },
  "language_info": {
   "codemirror_mode": {
    "name": "ipython",
    "version": 3
   },
   "file_extension": ".py",
   "mimetype": "text/x-python",
   "name": "python",
   "nbconvert_exporter": "python",
   "pygments_lexer": "ipython3",
   "version": "3.6.4"
  }
 },
 "nbformat": 4,
 "nbformat_minor": 2
}

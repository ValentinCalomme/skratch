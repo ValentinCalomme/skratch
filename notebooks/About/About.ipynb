{
 "cells": [
  {
   "cell_type": "markdown",
   "metadata": {},
   "source": [
    "# Skratch\n",
    "\n",
    "Machine learning is a combination of statistics, computer science, linear algebra, information theory, and other topics, which can make it a difficult topic to learn. Because of this, and the abundance of libraries, packages or even cloud solutions, learning how models actually work is not very tempting. This leads to an increasing amount of people who use models but do not necessarily understand how they work.\n",
    "\n",
    "Understanding how models work can be extremely useful. It can save a lot of time when choosing models or hyperparameters. And it can be of great help when trying to understand why a model performs the way it does, ultimately helping you to come up with a better solution. However, most learning resources are either too technical, making them unattractive to most people, or they are too high-level and do not provide deep enough explanations of the material.\n",
    "\n",
    "Skratch is there to try to fill that gap.\n",
    "\n",
    "## What makes Skratch different?\n",
    "\n",
    "Skratch's philosophy is that to truly understand something, you must first break it down into atomic steps. This is why it was decided to implement machine learning algorithms from scratch and use the code as a learning tool. This way, we can truly show what is happening under the hood. Also, we often don't realize how many things we don't fully understand about a topic until we have to explain it ourselves. Implementing algorithms from scratch ensures that we must understand every step.\n",
    "\n",
    "As explained above, Skratch is trying to fill a gap between \"too technical\" and \"too high-level\". This means that we won't delve deeply into statistics. If necessary, we will provide relevant links to other resources. On the other hand, we do not want to be too high-level and we believe that showing each step of an algorithm through code can achieve that.\n",
    "\n",
    "Skratch does not pretend to be the only useful learning resource out there. It is the complete opposite. There exist many incredible resources about machine learning, and we would simply like to add another one to the list. We understand that everyone learns differently, and that perhaps, one explanation can make things click for one person but not for the other. We hope that by offering a different way to learn machine learning, we can make things click for more people.\n",
    "\n",
    "## Who is it for?\n",
    "\n",
    "Skratch is for anyone who is interested in machine learning, and especially those who like to build things themselves. Because it has a high focus on code, it might be too technical for some, and because it doesn't go deeply into statistics, it might be too high-level for some. We strive to find a balance between the two sides. Even though the code is written in Python, it doesn't mean that it isn't useful for people who use different languages. Python was used for its readability and the code was written trying not to be too \"Pythonic\".\n"
   ]
  }
 ],
 "metadata": {
  "kernelspec": {
   "display_name": "Python 3",
   "language": "python",
   "name": "python3"
  },
  "language_info": {
   "codemirror_mode": {
    "name": "ipython",
    "version": 3
   },
   "file_extension": ".py",
   "mimetype": "text/x-python",
   "name": "python",
   "nbconvert_exporter": "python",
   "pygments_lexer": "ipython3",
   "version": "3.6.4"
  }
 },
 "nbformat": 4,
 "nbformat_minor": 2
}

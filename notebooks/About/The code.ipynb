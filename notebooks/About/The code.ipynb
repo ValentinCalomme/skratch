{
 "cells": [
  {
   "cell_type": "markdown",
   "metadata": {},
   "source": [
    "# The code\n",
    "\n",
    "Skratch is different from most machine learning resources as it views the code itself as a teaching tool. The goal of the code is to highlight the inner workings of the algorithms. The focus is put on readability as opposed to speed or robustness. The code is therefore composed of many functions, often not much longer than 5-10 lines.\n",
    "\n",
    "The code can be found on Github and is a work in progress. Any sort of contributions are welcome!\n",
    "\n",
    "## Python\n",
    "\n",
    "Machine learning can be written in any programming language, but Python was chosen because it is in general very readable and it is also a language that most people interested in machine learning know. Because the goal is not to teach Python, we tried to stear clear from syntax that could be considered \"too Pythonic\". We only used one package outside the standard library. The package is NumPy(http://www.numpy.org/), it is very commonly used in scientific Python as it helps perform matrix operations. In cases where the syntax is very Python-specific, comments are there to explain what the line means.\n",
    "\n",
    "Interesting to note that the code was written trying to adopt the sklearn interface. We used similar naming conventions as well, therefore, reading the code should be straightforward for sklearn users.\n",
    "\n",
    "## Tests\n",
    "\n",
    "Whilst the code was not written to be production-grade, we still wanted to make sure that it worked. Therefore, we wrote tests (using Pytest) to confirm that the different algorithms we implemented indeed worked as expected. In order to ensure that the implementations are correct, unit tests are written to compare the behavior of the Skratch code to expected behavior, often displayed by packages like Sklearn or Scipy.\n",
    "\n",
    "Thanks to these tests, one could also create exercises where they comment out a function and try to reimplement it themselves. If the test passes, the implementation should be correct! Bear in mind that it is not the primary goal of the tests and therefore, this might not be true 100% of the time"
   ]
  },
  {
   "cell_type": "code",
   "execution_count": null,
   "metadata": {},
   "outputs": [],
   "source": []
  }
 ],
 "metadata": {
  "kernelspec": {
   "display_name": "Python 3",
   "language": "python",
   "name": "python3"
  },
  "language_info": {
   "codemirror_mode": {
    "name": "ipython",
    "version": 3
   },
   "file_extension": ".py",
   "mimetype": "text/x-python",
   "name": "python",
   "nbconvert_exporter": "python",
   "pygments_lexer": "ipython3",
   "version": "3.6.4"
  }
 },
 "nbformat": 4,
 "nbformat_minor": 2
}

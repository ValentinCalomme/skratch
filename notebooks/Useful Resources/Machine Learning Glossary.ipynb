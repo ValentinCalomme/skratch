{
 "cells": [
  {
   "cell_type": "markdown",
   "metadata": {},
   "source": [
    "# Machine Learning Glossary\n",
    "\n",
    "There are many terms used in machine learning. In this section, we'll gloss over most of them, and provide a concise definition of what they are as well as a link to more complete explanations.\n",
    "\n",
    "## Other glossaries\n",
    "\n",
    "Obviously, we are not the only ones providing machine learning glossaries. Here is a curated list of some of the others you can find online:\n",
    "\n",
    "- https://developers.google.com/machine-learning/glossary/\n",
    "- https://machinelearning.wtf/\n",
    "- https://docs.microsoft.com/en-us/dotnet/machine-learning/resources/glossary\n",
    "- https://www.analyticsvidhya.com/glossary-of-common-statistics-and-machine-learning-terms/\n",
    "\n",
    "# Overfitting\n",
    "\n",
    "# Underfitting\n",
    "\n",
    "# Bias\n",
    "\n",
    "# Variance\n",
    "\n",
    "# Class\n",
    "\n",
    "# Classification\n",
    "\n",
    "# Regression\n",
    "\n",
    "# Clustering\n",
    "\n",
    "-> To be continued <-"
   ]
  },
  {
   "cell_type": "code",
   "execution_count": null,
   "metadata": {},
   "outputs": [],
   "source": []
  }
 ],
 "metadata": {
  "kernelspec": {
   "display_name": "Python 3",
   "language": "python",
   "name": "python3"
  },
  "language_info": {
   "codemirror_mode": {
    "name": "ipython",
    "version": 3
   },
   "file_extension": ".py",
   "mimetype": "text/x-python",
   "name": "python",
   "nbconvert_exporter": "python",
   "pygments_lexer": "ipython3",
   "version": "3.6.4"
  }
 },
 "nbformat": 4,
 "nbformat_minor": 2
}

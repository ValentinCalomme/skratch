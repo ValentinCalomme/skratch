{
 "cells": [
  {
   "cell_type": "markdown",
   "metadata": {},
   "source": [
    "My name is Valentin and I originally come from Belgium. I lived in the United States for a bit and then I went on to study data science at Maastricht University in the Netherlands. I now work as a data scientist at a company called Mediaan, which means that I am able to fully embrace my passion for machine learning on a daily basis.\n",
    "\n",
    "I am also passionate about teaching and really believe that you cannot master a topic until you are able to explain it to others. This is one of the main reasons I decided to start this website. On one hand, I wanted to spread good resources about machine learning, and on the other, I wanted to further my education on the topic.\n",
    "\n",
    "This website is and will remain a work in progress. I welcome any criticism, suggestions, and even contributions to the project with open arms. If you want to get in touch with me, feel free to use the contact page, or find me on Github or LinkedIn!"
   ]
  },
  {
   "cell_type": "code",
   "execution_count": null,
   "metadata": {},
   "outputs": [],
   "source": []
  }
 ],
 "metadata": {
  "kernelspec": {
   "display_name": "Python 3",
   "language": "python",
   "name": "python3"
  },
  "language_info": {
   "codemirror_mode": {
    "name": "ipython",
    "version": 3
   },
   "file_extension": ".py",
   "mimetype": "text/x-python",
   "name": "python",
   "nbconvert_exporter": "python",
   "pygments_lexer": "ipython3",
   "version": "3.6.4"
  }
 },
 "nbformat": 4,
 "nbformat_minor": 2
}
